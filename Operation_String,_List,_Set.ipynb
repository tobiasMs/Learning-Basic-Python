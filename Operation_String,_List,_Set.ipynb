{
  "nbformat": 4,
  "nbformat_minor": 0,
  "metadata": {
    "colab": {
      "name": "Operation String, List, Set.ipynb",
      "provenance": [],
      "collapsed_sections": []
    },
    "kernelspec": {
      "name": "python3",
      "display_name": "Python 3"
    },
    "language_info": {
      "name": "python"
    }
  },
  "cells": [
    {
      "cell_type": "markdown",
      "source": [
        "#LEN"
      ],
      "metadata": {
        "id": "VZz5bHd26Jrj"
      }
    },
    {
      "cell_type": "markdown",
      "source": [
        "Used to count the amount of existing data or the number of characters in srings"
      ],
      "metadata": {
        "id": "X4fqwx1xIeNX"
      }
    },
    {
      "cell_type": "code",
      "source": [
        "ls=[1,2,3,4,5,1,3,2,4,1,4,5,5,0.124]"
      ],
      "metadata": {
        "id": "vtDWgJTCHMto"
      },
      "execution_count": null,
      "outputs": []
    },
    {
      "cell_type": "code",
      "source": [
        "len(ls)"
      ],
      "metadata": {
        "colab": {
          "base_uri": "https://localhost:8080/"
        },
        "id": "umXFkJxMIBDW",
        "outputId": "a5bda019-8331-4661-bd3e-4be276f1d97a"
      },
      "execution_count": null,
      "outputs": [
        {
          "output_type": "execute_result",
          "data": {
            "text/plain": [
              "14"
            ]
          },
          "metadata": {},
          "execution_count": 42
        }
      ]
    },
    {
      "cell_type": "code",
      "source": [
        "st='Tobias Mikha S'"
      ],
      "metadata": {
        "id": "aroR2addHmMy"
      },
      "execution_count": null,
      "outputs": []
    },
    {
      "cell_type": "code",
      "source": [
        "len(st)"
      ],
      "metadata": {
        "colab": {
          "base_uri": "https://localhost:8080/"
        },
        "id": "iv6qirvXINTV",
        "outputId": "801ae866-c84e-4ce3-c3ff-11c6c14e5b2f"
      },
      "execution_count": null,
      "outputs": [
        {
          "output_type": "execute_result",
          "data": {
            "text/plain": [
              "14"
            ]
          },
          "metadata": {},
          "execution_count": 43
        }
      ]
    },
    {
      "cell_type": "code",
      "source": [
        "se={3,7,2,6,7,2,4,1,7,8,9,2,1,10,0.12,0.001}"
      ],
      "metadata": {
        "id": "T1yHLOS-Hsod"
      },
      "execution_count": null,
      "outputs": []
    },
    {
      "cell_type": "code",
      "source": [
        "print(se)"
      ],
      "metadata": {
        "colab": {
          "base_uri": "https://localhost:8080/"
        },
        "id": "2S6bBGY4IT0x",
        "outputId": "66424356-6409-4ee5-e2f3-f5aab3d20b89"
      },
      "execution_count": null,
      "outputs": [
        {
          "output_type": "stream",
          "name": "stdout",
          "text": [
            "{0.12, 1, 2, 3, 4, 6, 7, 8, 9, 10, 0.001}\n"
          ]
        }
      ]
    },
    {
      "cell_type": "code",
      "source": [
        "len(se)"
      ],
      "metadata": {
        "colab": {
          "base_uri": "https://localhost:8080/"
        },
        "id": "-GCsMRb3IP90",
        "outputId": "3a3f6786-af6b-4f59-c33f-d30425cad697"
      },
      "execution_count": null,
      "outputs": [
        {
          "output_type": "execute_result",
          "data": {
            "text/plain": [
              "11"
            ]
          },
          "metadata": {},
          "execution_count": 44
        }
      ]
    },
    {
      "cell_type": "markdown",
      "source": [
        "#Min and Max"
      ],
      "metadata": {
        "id": "IFw_8WCFJYkc"
      }
    },
    {
      "cell_type": "markdown",
      "source": [
        "used to find the smallest and largest values ​​in a list"
      ],
      "metadata": {
        "id": "fQnzfliNKFG9"
      }
    },
    {
      "cell_type": "code",
      "source": [
        "a=[0.0125,0.11,0.23,1,2,4,5,1,2,3,1]"
      ],
      "metadata": {
        "id": "0v0A6E_HJg9x"
      },
      "execution_count": null,
      "outputs": []
    },
    {
      "cell_type": "code",
      "source": [
        "min(a)"
      ],
      "metadata": {
        "colab": {
          "base_uri": "https://localhost:8080/"
        },
        "id": "p3kaTmHAJ8__",
        "outputId": "f7ab8168-77e8-4bb4-89db-88198847fe83"
      },
      "execution_count": null,
      "outputs": [
        {
          "output_type": "execute_result",
          "data": {
            "text/plain": [
              "0.0125"
            ]
          },
          "metadata": {},
          "execution_count": 49
        }
      ]
    },
    {
      "cell_type": "code",
      "source": [
        "max(a)"
      ],
      "metadata": {
        "colab": {
          "base_uri": "https://localhost:8080/"
        },
        "id": "-rPkVvTnKC1o",
        "outputId": "41553001-bd64-4dad-a194-b29578b97926"
      },
      "execution_count": null,
      "outputs": [
        {
          "output_type": "execute_result",
          "data": {
            "text/plain": [
              "5"
            ]
          },
          "metadata": {},
          "execution_count": 50
        }
      ]
    },
    {
      "cell_type": "markdown",
      "source": [
        "When the list contains characters/strings, it will not be able to find the largest or smallest value"
      ],
      "metadata": {
        "id": "NqqFdtVUKZ6g"
      }
    },
    {
      "cell_type": "code",
      "source": [
        "b=['a','tob',1,2,3,4,5,9]"
      ],
      "metadata": {
        "id": "2oEDonWxKRJg"
      },
      "execution_count": null,
      "outputs": []
    },
    {
      "cell_type": "code",
      "source": [
        "min(b)"
      ],
      "metadata": {
        "colab": {
          "base_uri": "https://localhost:8080/",
          "height": 172
        },
        "id": "bUe3NGTGKXpC",
        "outputId": "a68586dc-e550-4d37-fc70-8a07b6c63174"
      },
      "execution_count": null,
      "outputs": [
        {
          "output_type": "error",
          "ename": "TypeError",
          "evalue": "ignored",
          "traceback": [
            "\u001b[0;31m---------------------------------------------------------------------------\u001b[0m",
            "\u001b[0;31mTypeError\u001b[0m                                 Traceback (most recent call last)",
            "\u001b[0;32m<ipython-input-52-cac4e6cca3ae>\u001b[0m in \u001b[0;36m<module>\u001b[0;34m()\u001b[0m\n\u001b[0;32m----> 1\u001b[0;31m \u001b[0mmin\u001b[0m\u001b[0;34m(\u001b[0m\u001b[0mb\u001b[0m\u001b[0;34m)\u001b[0m\u001b[0;34m\u001b[0m\u001b[0;34m\u001b[0m\u001b[0m\n\u001b[0m",
            "\u001b[0;31mTypeError\u001b[0m: '<' not supported between instances of 'int' and 'str'"
          ]
        }
      ]
    },
    {
      "cell_type": "markdown",
      "source": [
        "#Count"
      ],
      "metadata": {
        "id": "JVy3ikuNLVct"
      }
    },
    {
      "cell_type": "markdown",
      "source": [
        "Count is fuction to calculate a specific value\n"
      ],
      "metadata": {
        "id": "Qy8pdiRaLl7-"
      }
    },
    {
      "cell_type": "code",
      "source": [
        "c=[7,1,1,1,1,1,2,5,6,2,2,67,8,32,36,6,7,3,2,7,8,2,3,6]"
      ],
      "metadata": {
        "id": "eK9UP4g1KqRo"
      },
      "execution_count": null,
      "outputs": []
    },
    {
      "cell_type": "code",
      "source": [
        "c.count(2)"
      ],
      "metadata": {
        "colab": {
          "base_uri": "https://localhost:8080/"
        },
        "id": "XsZ-XtbnLfPz",
        "outputId": "602376ad-685e-4803-bb88-2a91619a488d"
      },
      "execution_count": null,
      "outputs": [
        {
          "output_type": "execute_result",
          "data": {
            "text/plain": [
              "5"
            ]
          },
          "metadata": {},
          "execution_count": 55
        }
      ]
    },
    {
      "cell_type": "markdown",
      "source": [
        "The count function can also be used to find the number of letters or words that appear in a sentence in a string format"
      ],
      "metadata": {
        "id": "Nd2bT_GMMFeW"
      }
    },
    {
      "cell_type": "code",
      "source": [
        "sp='tobias mikha sulistiyo'"
      ],
      "metadata": {
        "id": "7y0synxBL8Hx"
      },
      "execution_count": null,
      "outputs": []
    },
    {
      "cell_type": "code",
      "source": [
        "sp.count('i')"
      ],
      "metadata": {
        "colab": {
          "base_uri": "https://localhost:8080/"
        },
        "id": "Zj05G6wiMCLn",
        "outputId": "937eb815-387d-4bbf-e82c-e5f09dd69622"
      },
      "execution_count": null,
      "outputs": [
        {
          "output_type": "execute_result",
          "data": {
            "text/plain": [
              "4"
            ]
          },
          "metadata": {},
          "execution_count": 57
        }
      ]
    },
    {
      "cell_type": "markdown",
      "source": [
        "#Join and Replication"
      ],
      "metadata": {
        "id": "bLQVok_sMoGu"
      }
    },
    {
      "cell_type": "markdown",
      "source": [
        "For the concatenation function is like a mathematical operation but what is operated is a list"
      ],
      "metadata": {
        "id": "YH0PlfEbMwAN"
      }
    },
    {
      "cell_type": "code",
      "source": [
        "f=[1,2,3,4,5]"
      ],
      "metadata": {
        "id": "UrXD0uNMMvWT"
      },
      "execution_count": null,
      "outputs": []
    },
    {
      "cell_type": "code",
      "source": [
        "g=['d','a','t','a',1,2,3]"
      ],
      "metadata": {
        "id": "JX_OcCjiMrQp"
      },
      "execution_count": null,
      "outputs": []
    },
    {
      "cell_type": "code",
      "source": [
        "f+g"
      ],
      "metadata": {
        "colab": {
          "base_uri": "https://localhost:8080/"
        },
        "id": "qJGPq0AzNJLS",
        "outputId": "64cc7d1a-964b-42f3-e272-b13b8669f9dd"
      },
      "execution_count": null,
      "outputs": [
        {
          "output_type": "execute_result",
          "data": {
            "text/plain": [
              "[1, 2, 3, 4, 5, 'd', 'a', 't', 'a', 1, 2, 3]"
            ]
          },
          "metadata": {},
          "execution_count": 62
        }
      ]
    },
    {
      "cell_type": "markdown",
      "source": [
        "Replication or repetition is to repeat the amount of data as much as desired. For replication operations use (*)"
      ],
      "metadata": {
        "id": "EKQRtPJsNwtq"
      }
    },
    {
      "cell_type": "code",
      "source": [
        "g*2"
      ],
      "metadata": {
        "colab": {
          "base_uri": "https://localhost:8080/"
        },
        "id": "qy7sL4CkNZs0",
        "outputId": "5705f7ac-fc37-4b9f-9b7f-7fffeef3de53"
      },
      "execution_count": null,
      "outputs": [
        {
          "output_type": "execute_result",
          "data": {
            "text/plain": [
              "['d', 'a', 't', 'a', 1, 2, 3, 'd', 'a', 't', 'a', 1, 2, 3]"
            ]
          },
          "metadata": {},
          "execution_count": 64
        }
      ]
    },
    {
      "cell_type": "code",
      "source": [
        "f*4"
      ],
      "metadata": {
        "colab": {
          "base_uri": "https://localhost:8080/"
        },
        "id": "olGBlcCAN3IT",
        "outputId": "568bfaf2-9318-4576-e95d-0ef79722408a"
      },
      "execution_count": null,
      "outputs": [
        {
          "output_type": "execute_result",
          "data": {
            "text/plain": [
              "[1, 2, 3, 4, 5, 1, 2, 3, 4, 5, 1, 2, 3, 4, 5, 1, 2, 3, 4, 5]"
            ]
          },
          "metadata": {},
          "execution_count": 65
        }
      ]
    },
    {
      "cell_type": "code",
      "source": [
        "(f+g)*2"
      ],
      "metadata": {
        "colab": {
          "base_uri": "https://localhost:8080/"
        },
        "id": "7FQh2zyKN8R2",
        "outputId": "c517205f-6eff-4574-9855-8ad8ad2a9cd9"
      },
      "execution_count": null,
      "outputs": [
        {
          "output_type": "execute_result",
          "data": {
            "text/plain": [
              "[1,\n",
              " 2,\n",
              " 3,\n",
              " 4,\n",
              " 5,\n",
              " 'd',\n",
              " 'a',\n",
              " 't',\n",
              " 'a',\n",
              " 1,\n",
              " 2,\n",
              " 3,\n",
              " 1,\n",
              " 2,\n",
              " 3,\n",
              " 4,\n",
              " 5,\n",
              " 'd',\n",
              " 'a',\n",
              " 't',\n",
              " 'a',\n",
              " 1,\n",
              " 2,\n",
              " 3]"
            ]
          },
          "metadata": {},
          "execution_count": 66
        }
      ]
    },
    {
      "cell_type": "markdown",
      "source": [
        "#Range"
      ],
      "metadata": {
        "id": "-mJI0eDcOUML"
      }
    },
    {
      "cell_type": "markdown",
      "source": [
        "The range() function returns a sequence of numbers, starting from 0 by default, and increments by 1 (by default), and stops before a specified number.\n",
        "\n",
        "range(start,stop,step)"
      ],
      "metadata": {
        "id": "1TqR0moGOWB1"
      }
    },
    {
      "cell_type": "code",
      "source": [
        "for n in range(4):\n",
        "  print(n) "
      ],
      "metadata": {
        "colab": {
          "base_uri": "https://localhost:8080/"
        },
        "id": "7qMK232rOCC7",
        "outputId": "0d178086-eb17-4330-a712-55d8aa08d8f1"
      },
      "execution_count": null,
      "outputs": [
        {
          "output_type": "stream",
          "name": "stdout",
          "text": [
            "0\n",
            "1\n",
            "2\n",
            "3\n"
          ]
        }
      ]
    },
    {
      "cell_type": "markdown",
      "source": [
        "Displays the results range from the beginning of the specified number (0 default) to end. Or in python the calculation is -1 of the desired list"
      ],
      "metadata": {
        "id": "uf7dws85QmL9"
      }
    },
    {
      "cell_type": "code",
      "source": [
        "for n in range(4,8):\n",
        "  print(n) "
      ],
      "metadata": {
        "colab": {
          "base_uri": "https://localhost:8080/"
        },
        "id": "c6ncNclwPNSu",
        "outputId": "4165370f-beaa-443f-becd-d3fe8371ea9a"
      },
      "execution_count": null,
      "outputs": [
        {
          "output_type": "stream",
          "name": "stdout",
          "text": [
            "4\n",
            "5\n",
            "6\n",
            "7\n"
          ]
        }
      ]
    },
    {
      "cell_type": "markdown",
      "source": [
        "Displays the results range from the beginning of the specified number (0 default) to end with step."
      ],
      "metadata": {
        "id": "2BcT_SRBRQ7C"
      }
    },
    {
      "cell_type": "code",
      "source": [
        "for n in range(4,15,3):\n",
        "  print(n) "
      ],
      "metadata": {
        "colab": {
          "base_uri": "https://localhost:8080/"
        },
        "id": "aeFIC2ZwPW0m",
        "outputId": "91d53d12-398c-4a85-a688-ba355b9defae"
      },
      "execution_count": null,
      "outputs": [
        {
          "output_type": "stream",
          "name": "stdout",
          "text": [
            "4\n",
            "7\n",
            "10\n",
            "13\n"
          ]
        }
      ]
    },
    {
      "cell_type": "markdown",
      "source": [
        "#In and Not In"
      ],
      "metadata": {
        "id": "7ZtK__poRe6Y"
      }
    },
    {
      "cell_type": "markdown",
      "source": [
        "To display the value in the list or variable data is true or false"
      ],
      "metadata": {
        "id": "9ow8kVaPRl0k"
      }
    },
    {
      "cell_type": "code",
      "source": [
        "k=['n','i','c','a',1.221,3,6,1,2,4,6,1]"
      ],
      "metadata": {
        "id": "ufcC_S4GRldQ"
      },
      "execution_count": null,
      "outputs": []
    },
    {
      "cell_type": "code",
      "source": [
        "1.221 in k"
      ],
      "metadata": {
        "colab": {
          "base_uri": "https://localhost:8080/"
        },
        "id": "AiyTr9NCP0WT",
        "outputId": "66161044-10ec-4d69-c0c7-45af07e53633"
      },
      "execution_count": null,
      "outputs": [
        {
          "output_type": "execute_result",
          "data": {
            "text/plain": [
              "True"
            ]
          },
          "metadata": {},
          "execution_count": 73
        }
      ]
    },
    {
      "cell_type": "code",
      "source": [
        "'n' not in k"
      ],
      "metadata": {
        "colab": {
          "base_uri": "https://localhost:8080/"
        },
        "id": "ATcD2qr_Sm7D",
        "outputId": "743e0651-ea77-4405-a7b1-dbc87fa6d570"
      },
      "execution_count": null,
      "outputs": [
        {
          "output_type": "execute_result",
          "data": {
            "text/plain": [
              "False"
            ]
          },
          "metadata": {},
          "execution_count": 74
        }
      ]
    },
    {
      "cell_type": "code",
      "source": [
        "v='my name is tobias mikha sulistiyo, my friends usually call me tobias/tob. The name tobias means that the goodness of god'"
      ],
      "metadata": {
        "id": "kK2LyFfCSqxX"
      },
      "execution_count": null,
      "outputs": []
    },
    {
      "cell_type": "code",
      "source": [
        "'7' in v"
      ],
      "metadata": {
        "colab": {
          "base_uri": "https://localhost:8080/"
        },
        "id": "qtZ1G5e7TQJN",
        "outputId": "7748f490-d950-49cb-9da4-f8817b228171"
      },
      "execution_count": null,
      "outputs": [
        {
          "output_type": "execute_result",
          "data": {
            "text/plain": [
              "False"
            ]
          },
          "metadata": {},
          "execution_count": 77
        }
      ]
    },
    {
      "cell_type": "code",
      "source": [
        "'tob' in v"
      ],
      "metadata": {
        "colab": {
          "base_uri": "https://localhost:8080/"
        },
        "id": "aBkhH0iWTT9P",
        "outputId": "2752159a-7c07-4749-968b-b1d0c13aa851"
      },
      "execution_count": null,
      "outputs": [
        {
          "output_type": "execute_result",
          "data": {
            "text/plain": [
              "True"
            ]
          },
          "metadata": {},
          "execution_count": 78
        }
      ]
    }
  ]
}