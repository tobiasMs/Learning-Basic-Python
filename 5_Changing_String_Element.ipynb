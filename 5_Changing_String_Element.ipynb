{
  "nbformat": 4,
  "nbformat_minor": 0,
  "metadata": {
    "colab": {
      "name": "5. Changing String Element.ipynb",
      "provenance": []
    },
    "kernelspec": {
      "name": "python3",
      "display_name": "Python 3"
    },
    "language_info": {
      "name": "python"
    }
  },
  "cells": [
    {
      "cell_type": "markdown",
      "source": [
        "###Changing String Element\n",
        "\n",
        "In python, you can change the string to string element if you use replace function.\n",
        "\n",
        "```\n",
        ".replace() \n",
        "```\n",
        "\n",
        "For the Example:"
      ],
      "metadata": {
        "id": "ENBMldU3rdF7"
      }
    },
    {
      "cell_type": "code",
      "source": [
        "a = \"Amy get an excel cetification\""
      ],
      "metadata": {
        "id": "RFIrvHWjsKwt"
      },
      "execution_count": 1,
      "outputs": []
    },
    {
      "cell_type": "code",
      "source": [
        "print(a)"
      ],
      "metadata": {
        "colab": {
          "base_uri": "https://localhost:8080/"
        },
        "id": "ChN-OKfJtGSX",
        "outputId": "b89c2f3e-8cba-4918-ee83-d1051f97aaa1"
      },
      "execution_count": 2,
      "outputs": [
        {
          "output_type": "stream",
          "name": "stdout",
          "text": [
            "Amy get an excel cetification\n"
          ]
        }
      ]
    },
    {
      "cell_type": "markdown",
      "source": [
        "if you want to replace the 'excel' to 'word', you can use replace function.\n",
        "\n",
        "like this:"
      ],
      "metadata": {
        "id": "Hv29UCVAtEl7"
      }
    },
    {
      "cell_type": "code",
      "source": [
        "a.replace('excel', 'word')"
      ],
      "metadata": {
        "colab": {
          "base_uri": "https://localhost:8080/",
          "height": 35
        },
        "id": "AWUfdDqVtYAK",
        "outputId": "6c703f15-fba6-4065-dc38-8cce1581e2ab"
      },
      "execution_count": 3,
      "outputs": [
        {
          "output_type": "execute_result",
          "data": {
            "text/plain": [
              "'Amy get an word cetification'"
            ],
            "application/vnd.google.colaboratory.intrinsic+json": {
              "type": "string"
            }
          },
          "metadata": {},
          "execution_count": 3
        }
      ]
    },
    {
      "cell_type": "markdown",
      "source": [
        "in default, replace function will replace all string that you command it. but, if you add number at the end, it will replace the n number that you want.\n",
        "\n",
        "example"
      ],
      "metadata": {
        "id": "O7iftQTxtp4j"
      }
    },
    {
      "cell_type": "code",
      "source": [
        "b = \"Amy get an excel associate and excel expert cetification\""
      ],
      "metadata": {
        "id": "3-HKpaGv2lpG"
      },
      "execution_count": 4,
      "outputs": []
    },
    {
      "cell_type": "code",
      "source": [
        "b.replace('excel', 'word')"
      ],
      "metadata": {
        "colab": {
          "base_uri": "https://localhost:8080/",
          "height": 35
        },
        "id": "VlnthDEV25Ke",
        "outputId": "524ba680-8a34-44bc-95eb-82d404000894"
      },
      "execution_count": 9,
      "outputs": [
        {
          "output_type": "execute_result",
          "data": {
            "text/plain": [
              "'Amy get an word associate and word expert cetification'"
            ],
            "application/vnd.google.colaboratory.intrinsic+json": {
              "type": "string"
            }
          },
          "metadata": {},
          "execution_count": 9
        }
      ]
    },
    {
      "cell_type": "markdown",
      "source": [
        "by default it would replace all 'excel' to 'word', but if you add number, it select the string you want to replace"
      ],
      "metadata": {
        "id": "XCNXGC6C3epV"
      }
    },
    {
      "cell_type": "code",
      "source": [
        "b.replace('excel', 'word', 1)"
      ],
      "metadata": {
        "colab": {
          "base_uri": "https://localhost:8080/",
          "height": 35
        },
        "id": "EHWcsOLS3UVe",
        "outputId": "f2586cd0-1c0a-4a3e-8ebe-899623d982b1"
      },
      "execution_count": 10,
      "outputs": [
        {
          "output_type": "execute_result",
          "data": {
            "text/plain": [
              "'Amy get an word associate and excel expert cetification'"
            ],
            "application/vnd.google.colaboratory.intrinsic+json": {
              "type": "string"
            }
          },
          "metadata": {},
          "execution_count": 10
        }
      ]
    }
  ]
}