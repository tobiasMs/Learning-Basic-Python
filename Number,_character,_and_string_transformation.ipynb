{
  "nbformat": 4,
  "nbformat_minor": 0,
  "metadata": {
    "colab": {
      "name": "Number,_character,_and_string_transformation.ipynb",
      "provenance": [],
      "collapsed_sections": []
    },
    "kernelspec": {
      "name": "python3",
      "display_name": "Python 3"
    },
    "language_info": {
      "name": "python"
    }
  },
  "cells": [
    {
      "cell_type": "markdown",
      "source": [
        "**Number, character, and string transformation**\n",
        "\n",
        "*Change string uppercase and lowercase*\\\n",
        "There is a sentence that consists strings of upper and lower case letter.\n",
        "- **upper()**\n",
        "\n",
        "Upper() is a built-in method used for string handling.\n",
        "The function upper() returns the string by converting all the characters of the string to upper case respectively.\\\n",
        "If any uppercase or no lowercase characters exist, it returns the original string.\n",
        "\n",
        "- **lower()**\n",
        "\n",
        "Lower() is a built-in method used for string handling.The function lower() returns the string by converting all the characters of the string to lowercase respectively.\\\n",
        "If any lowercase or no uppercase characters exist, it returns the original string.\n",
        "\n",
        "Digits and symbols return are returned as it is, Only an uppercase and lowercase letter is returned after converting to lowercase and uppercase.\n",
        "It does not take any arguments, Therefore, It returns an error if a parameter is passed."
      ],
      "metadata": {
        "id": "CvWWC9rvpgHd"
      }
    },
    {
      "cell_type": "code",
      "source": [
        "# Python code for implementation of upper() \n",
        "# checking for uppercase characters\n",
        "Python = \"MyEduSolve\"\n",
        "# upper() does not take any parameters\n",
        "print(Python.upper())\n",
        "# It converts the given string in into uppercase and returns the string."
      ],
      "metadata": {
        "colab": {
          "base_uri": "https://localhost:8080/"
        },
        "id": "4qu8mS07g-sr",
        "outputId": "36b017d2-4f02-4035-a64a-8a4bc413702b"
      },
      "execution_count": null,
      "outputs": [
        {
          "output_type": "stream",
          "name": "stdout",
          "text": [
            "MYEDUSOLVE\n"
          ]
        }
      ]
    },
    {
      "cell_type": "code",
      "source": [
        "# upper() take \"Edu\" as parameter\n",
        "print(Python.upper(\"Edu\"))\n",
        "# It returns an error if a parameter is passed."
      ],
      "metadata": {
        "colab": {
          "base_uri": "https://localhost:8080/",
          "height": 356
        },
        "id": "QIM9HDY5laiV",
        "outputId": "7724694c-7db3-4cb9-df4c-9f2386a9ed27"
      },
      "execution_count": null,
      "outputs": [
        {
          "output_type": "error",
          "ename": "TypeError",
          "evalue": "ignored",
          "traceback": [
            "\u001b[0;31m---------------------------------------------------------------------------\u001b[0m",
            "\u001b[0;31mTypeError\u001b[0m                                 Traceback (most recent call last)",
            "\u001b[0;32m<ipython-input-2-c87f41b45c3a>\u001b[0m in \u001b[0;36m<module>\u001b[0;34m()\u001b[0m\n\u001b[1;32m      1\u001b[0m \u001b[0;31m# upper() take \"Edu\" as parameter\u001b[0m\u001b[0;34m\u001b[0m\u001b[0;34m\u001b[0m\u001b[0;34m\u001b[0m\u001b[0m\n\u001b[0;32m----> 2\u001b[0;31m \u001b[0mprint\u001b[0m\u001b[0;34m(\u001b[0m\u001b[0mPython\u001b[0m\u001b[0;34m.\u001b[0m\u001b[0mupper\u001b[0m\u001b[0;34m(\u001b[0m\u001b[0;34m\"Edu\"\u001b[0m\u001b[0;34m)\u001b[0m\u001b[0;34m)\u001b[0m\u001b[0;34m\u001b[0m\u001b[0;34m\u001b[0m\u001b[0m\n\u001b[0m\u001b[1;32m      3\u001b[0m \u001b[0;31m# It returns an error if a parameter is passed.\u001b[0m\u001b[0;34m\u001b[0m\u001b[0;34m\u001b[0m\u001b[0;34m\u001b[0m\u001b[0m\n",
            "\u001b[0;31mTypeError\u001b[0m: upper() takes no arguments (1 given)"
          ]
        }
      ]
    },
    {
      "cell_type": "code",
      "source": [
        "# Python code for implementation of lower() \n",
        "# checking for lowercase characters\n",
        "Matplotlib = \"Data Science Track\"\n",
        "# lower() does not take any parameters\n",
        "print(Matplotlib.lower())\n",
        "# It converts the given string in into lowercase and returns the string."
      ],
      "metadata": {
        "colab": {
          "base_uri": "https://localhost:8080/"
        },
        "id": "ioHwd9kZlsj9",
        "outputId": "b0628d67-d2f0-4439-e014-064c81c1df88"
      },
      "execution_count": null,
      "outputs": [
        {
          "output_type": "stream",
          "name": "stdout",
          "text": [
            "data science track\n"
          ]
        }
      ]
    },
    {
      "cell_type": "code",
      "source": [
        "# lower() take \"Track\" as parameter\n",
        "print(Matplotlib.upper(\"Track\"))\n",
        "# It returns an error if a parameter is passed."
      ],
      "metadata": {
        "colab": {
          "base_uri": "https://localhost:8080/",
          "height": 356
        },
        "id": "y1dwpceXmIh_",
        "outputId": "f38225f9-621c-497b-c3c3-a721c30de246"
      },
      "execution_count": null,
      "outputs": [
        {
          "output_type": "error",
          "ename": "TypeError",
          "evalue": "ignored",
          "traceback": [
            "\u001b[0;31m---------------------------------------------------------------------------\u001b[0m",
            "\u001b[0;31mTypeError\u001b[0m                                 Traceback (most recent call last)",
            "\u001b[0;32m<ipython-input-4-4cab7b4b48a1>\u001b[0m in \u001b[0;36m<module>\u001b[0;34m()\u001b[0m\n\u001b[1;32m      1\u001b[0m \u001b[0;31m# lower() take \"Track\" as parameter\u001b[0m\u001b[0;34m\u001b[0m\u001b[0;34m\u001b[0m\u001b[0;34m\u001b[0m\u001b[0m\n\u001b[0;32m----> 2\u001b[0;31m \u001b[0mprint\u001b[0m\u001b[0;34m(\u001b[0m\u001b[0mMatplotlib\u001b[0m\u001b[0;34m.\u001b[0m\u001b[0mupper\u001b[0m\u001b[0;34m(\u001b[0m\u001b[0;34m\"Track\"\u001b[0m\u001b[0;34m)\u001b[0m\u001b[0;34m)\u001b[0m\u001b[0;34m\u001b[0m\u001b[0;34m\u001b[0m\u001b[0m\n\u001b[0m\u001b[1;32m      3\u001b[0m \u001b[0;31m# It returns an error if a parameter is passed.\u001b[0m\u001b[0;34m\u001b[0m\u001b[0;34m\u001b[0m\u001b[0;34m\u001b[0m\u001b[0m\n",
            "\u001b[0;31mTypeError\u001b[0m: upper() takes no arguments (1 given)"
          ]
        }
      ]
    },
    {
      "cell_type": "markdown",
      "source": [
        "*Trim a string or line*\\\n",
        "Python has three built-in methods for trimming leading and trailing whitespace and characters from strings.\n",
        "\n",
        "- **rstrip()**\n",
        "\n",
        "The rstrip() method to remove only trailing whitespace and characters, only from the end of a string.\\\n",
        "Say you wanted to remove all punctuation only from the end of a string.\n",
        "\n",
        "- **lstrip()**\n",
        "\n",
        "The lstrip() method to remove only leading whitespace and characters, only from the beginning of a string.\\\n",
        "This is helpful when you want to remove whitespace and characters only from the start of the string.\n",
        "\n",
        "- **strip()**\\\n",
        "\n",
        "The strip() method to removes any leading (spaces at the beginning) and trailing (spaces at the end) whitespace and characters of a string.\\\n",
        "When the strip() method has no argument, it removes any leading and/or trailing whitespace from a string.\\\n",
        "The strip() method takes optional characters passed as arguments.\\\n",
        "The characters you add as arguments specify what characters you would like to remove from the start and end of the string.\n",
        "\n",
        "Parameter characters is optional. If nothing is passed as an argument to the strip() method, the set of white space characters is considered as characters.\\\n",
        "When the combination of characters in the chars argument mismatches the character of the string in the left or the right, it stops removing the leading or trailing characters."
      ],
      "metadata": {
        "id": "xrhTcH_YIIRo"
      }
    },
    {
      "cell_type": "code",
      "source": [
        "# Python code to demonstrate working of rstrip()\n",
        "Course = \"     *Data Science Track at MyEduSolve*      \"\n",
        "# rstrip() method has no argument\n",
        "print(Course.rstrip())"
      ],
      "metadata": {
        "colab": {
          "base_uri": "https://localhost:8080/"
        },
        "id": "8AP8Gf8Rme9Q",
        "outputId": "e22cca17-2a44-4a90-b6d0-3b34e6b951b4"
      },
      "execution_count": null,
      "outputs": [
        {
          "output_type": "stream",
          "name": "stdout",
          "text": [
            "     *Data Science Track at MyEduSolve*\n"
          ]
        }
      ]
    },
    {
      "cell_type": "code",
      "source": [
        "# the rstrip() method takes \"MyEduSolve\" as arguments\n",
        "Course_1 = \"Data Science Track at MyEduSolve\"\n",
        "print(Course_1.rstrip(\"MyEduSolve\"))"
      ],
      "metadata": {
        "colab": {
          "base_uri": "https://localhost:8080/"
        },
        "id": "x3GDgcMqogNU",
        "outputId": "84fcac93-7c8a-4eb4-b251-e2d5a1316af3"
      },
      "execution_count": null,
      "outputs": [
        {
          "output_type": "stream",
          "name": "stdout",
          "text": [
            "Data Science Track at \n"
          ]
        }
      ]
    },
    {
      "cell_type": "code",
      "source": [
        "# Python code to demonstrate working of lstrip()\n",
        "Course = \"     *Data Science Track at MyEduSolve*      \"\n",
        "# lstrip() method has no argument\n",
        "print(Course.lstrip())"
      ],
      "metadata": {
        "colab": {
          "base_uri": "https://localhost:8080/"
        },
        "id": "8gCtM9frphmw",
        "outputId": "e94fd29b-7844-42bc-8d1a-f3731f85b200"
      },
      "execution_count": null,
      "outputs": [
        {
          "output_type": "stream",
          "name": "stdout",
          "text": [
            "*Data Science Track at MyEduSolve*      \n"
          ]
        }
      ]
    },
    {
      "cell_type": "code",
      "source": [
        "# the lstrip() method takes \"Data\" as arguments\n",
        "Course_1 = \"Data Science Track at MyEduSolve\"\n",
        "print(Course_1.lstrip(\"Data\"))"
      ],
      "metadata": {
        "colab": {
          "base_uri": "https://localhost:8080/"
        },
        "id": "Z9ztepDbp40H",
        "outputId": "02f73ff6-281c-414e-e1b9-9ba76f59620f"
      },
      "execution_count": null,
      "outputs": [
        {
          "output_type": "stream",
          "name": "stdout",
          "text": [
            " Science Track at MyEduSolve\n"
          ]
        }
      ]
    },
    {
      "cell_type": "code",
      "source": [
        "# Python code to demonstrate working of strip()\n",
        "Course = \"     *Data Science Track at MyEduSolve*      \"\n",
        "# strip() method has no argument\n",
        "print(Course.strip())"
      ],
      "metadata": {
        "colab": {
          "base_uri": "https://localhost:8080/"
        },
        "id": "VdoKmBHKqe4u",
        "outputId": "9bdcba48-2699-455a-8068-93509fd07b57"
      },
      "execution_count": null,
      "outputs": [
        {
          "output_type": "stream",
          "name": "stdout",
          "text": [
            "*Data Science Track at MyEduSolve*\n"
          ]
        }
      ]
    },
    {
      "cell_type": "code",
      "source": [
        "# the strip() method takes \"Data MyEduSolve\" as arguments\n",
        "Course_1 = \"Data Science Track at MyEduSolve\"\n",
        "print(Course_1.strip(\"Data MyEduSolve\"))\n",
        "# You can to remove \"Data\", \"MyEduSolve\", \"S\" in \"Science\" (removing from MyEduSolve), and \"at\" (removing from Data)"
      ],
      "metadata": {
        "colab": {
          "base_uri": "https://localhost:8080/"
        },
        "id": "T-bEag2Mqovo",
        "outputId": "7b462649-b63f-400d-ae77-48bbc046ce69"
      },
      "execution_count": null,
      "outputs": [
        {
          "output_type": "stream",
          "name": "stdout",
          "text": [
            "cience Track\n"
          ]
        }
      ]
    },
    {
      "cell_type": "markdown",
      "source": [
        "*Python string startswith and endswith*\n",
        "- **startswith()**\n",
        "\n",
        "The Python startswith() function checks if a string starts with the given a specified substring or prefix.\\\n",
        "It returns True if the string starts with a given prefix else False.\\\n",
        "\n",
        "- **endswith()**\n",
        "\n",
        "The Python endswith() function checks if a string ends with the given specified substring or suffix.\\\n",
        "It returns True if the string ends with a given suffix, else False.\n",
        "\n",
        "That’s where the built-in functions startswith() and endswith() come in, startswith() and endswith() can be used to determine whether a string starts with or ends with a specific substring respectively."
      ],
      "metadata": {
        "id": "og7Cu54tIVDD"
      }
    },
    {
      "cell_type": "code",
      "source": [
        "# check if the message starts with Python\n",
        "MyTeam = \"Matplotlib team\"\n",
        "# it returns True if the string starts with a given prefix\n",
        "print(\"Result of checking 'Matplotlib' = \", MyTeam.startswith(\"Matplotlib\"))\n",
        "print(\"Result of checking 'Mat' = \", MyTeam.startswith(\"Mat\"))\n",
        "# it returns False if the string does not starts with a given prefix\n",
        "print(\"Result of checking 'Data Science' = \", MyTeam.startswith(\"Data Science\"))"
      ],
      "metadata": {
        "colab": {
          "base_uri": "https://localhost:8080/"
        },
        "id": "IDLDdBwqs3ZG",
        "outputId": "1f32f618-574f-4f32-b9b5-23bffe52426f"
      },
      "execution_count": null,
      "outputs": [
        {
          "output_type": "stream",
          "name": "stdout",
          "text": [
            "Result of checking 'Matplotlib' =  True\n",
            "Result of checking 'Mat' =  True\n",
            "Result of checking 'Data Science' =  False\n"
          ]
        }
      ]
    },
    {
      "cell_type": "code",
      "source": [
        "# check if the message ends with Python\n",
        "MyTeam = \"Matplotlib team\"\n",
        "# it returns False if the string does not ends with a given suffix\n",
        "print(\"Result of checking 'member' = \", MyTeam.endswith(\"member\"))\n",
        "# it returns True if the string ends with a given suffix\n",
        "print(\"Result of checking 'team' = \", MyTeam.endswith(\"team\"))"
      ],
      "metadata": {
        "colab": {
          "base_uri": "https://localhost:8080/"
        },
        "id": "P_fMr5yGucNX",
        "outputId": "40dc8431-605e-4bcc-e9c5-2ba5a2fa38be"
      },
      "execution_count": null,
      "outputs": [
        {
          "output_type": "stream",
          "name": "stdout",
          "text": [
            "Result of checking 'member' =  False\n",
            "Result of checking 'team' =  True\n"
          ]
        }
      ]
    },
    {
      "cell_type": "markdown",
      "source": [
        "##Thanks you!\n",
        "**Have a great day..**\\\n",
        "*See you again* ☺️"
      ],
      "metadata": {
        "id": "P80VDQe6yHVd"
      }
    }
  ]
}