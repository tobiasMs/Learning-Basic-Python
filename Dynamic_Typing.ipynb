{
  "nbformat": 4,
  "nbformat_minor": 0,
  "metadata": {
    "colab": {
      "name": "Dynamic Typing.ipynb",
      "provenance": [],
      "collapsed_sections": []
    },
    "kernelspec": {
      "name": "python3",
      "display_name": "Python 3"
    },
    "language_info": {
      "name": "python"
    }
  },
  "cells": [
    {
      "cell_type": "markdown",
      "source": [
        "Dynamic Typing in Python\\\n",
        "Python is called a dynamically typed language.\\\n",
        "A language is dynamically typed if the type of a variable is interpreted at runtime. It doesn’t know about the type of the variable until the code is run. This means that the Python interpreter does type checking only as code runs, and the type of a variable is allowed to change over its lifetime"
      ],
      "metadata": {
        "id": "8VfXwXtJnfHS"
      }
    },
    {
      "cell_type": "code",
      "source": [
        "# This will store \"Matplotlib\" and \"Python\" in the memory and binds the name x to it\n",
        "x = \"Matplotlib\" and \"Python\"\n",
        "# If x never runs, so it's never type checked\n",
        "# If x is evaluated, after it runs, type of x will be str (string)\n",
        "type(x)"
      ],
      "metadata": {
        "colab": {
          "base_uri": "https://localhost:8080/"
        },
        "id": "3vEls-2j6E1L",
        "outputId": "8438b3ec-6d7b-4b5c-f43c-0dcf901658dd"
      },
      "execution_count": null,
      "outputs": [
        {
          "output_type": "execute_result",
          "data": {
            "text/plain": [
              "str"
            ]
          },
          "metadata": {},
          "execution_count": 1
        }
      ]
    },
    {
      "cell_type": "code",
      "source": [
        "# This will store 27, 3, and 2022 in the memory and binds name y to it\n",
        "# After it runs type of x will be class int\n",
        "y =  27 + 3 + 2022\n",
        "print(type(y))"
      ],
      "metadata": {
        "colab": {
          "base_uri": "https://localhost:8080/"
        },
        "id": "PaFQ4seC816b",
        "outputId": "a8a2bdd0-f633-4388-8995-d2ea7ebc937a"
      },
      "execution_count": null,
      "outputs": [
        {
          "output_type": "stream",
          "name": "stdout",
          "text": [
            "<class 'int'>\n"
          ]
        }
      ]
    },
    {
      "cell_type": "code",
      "source": [
        "z = \"Matplotlib\" + 27\n",
        "print(type(z))\n",
        "# When z is evaluated, it raises a TypeError since you can’t add an integer and a string in Python."
      ],
      "metadata": {
        "colab": {
          "base_uri": "https://localhost:8080/",
          "height": 200
        },
        "id": "hGCw1RhI-Dr8",
        "outputId": "c2af4e7a-584b-47e9-e6fe-7172b275a4c5"
      },
      "execution_count": null,
      "outputs": [
        {
          "output_type": "error",
          "ename": "TypeError",
          "evalue": "ignored",
          "traceback": [
            "\u001b[0;31m---------------------------------------------------------------------------\u001b[0m",
            "\u001b[0;31mTypeError\u001b[0m                                 Traceback (most recent call last)",
            "\u001b[0;32m<ipython-input-3-83e87627741d>\u001b[0m in \u001b[0;36m<module>\u001b[0;34m()\u001b[0m\n\u001b[0;32m----> 1\u001b[0;31m \u001b[0mz\u001b[0m \u001b[0;34m=\u001b[0m \u001b[0;34m\"Matplotlib\"\u001b[0m \u001b[0;34m+\u001b[0m \u001b[0;36m27\u001b[0m\u001b[0;34m\u001b[0m\u001b[0;34m\u001b[0m\u001b[0m\n\u001b[0m\u001b[1;32m      2\u001b[0m \u001b[0mprint\u001b[0m\u001b[0;34m(\u001b[0m\u001b[0mtype\u001b[0m\u001b[0;34m(\u001b[0m\u001b[0mz\u001b[0m\u001b[0;34m)\u001b[0m\u001b[0;34m)\u001b[0m\u001b[0;34m\u001b[0m\u001b[0;34m\u001b[0m\u001b[0m\n\u001b[1;32m      3\u001b[0m \u001b[0;31m# When z is evaluated, it raises a TypeError since you can’t add an integer and a string in Python.\u001b[0m\u001b[0;34m\u001b[0m\u001b[0;34m\u001b[0m\u001b[0;34m\u001b[0m\u001b[0m\n",
            "\u001b[0;31mTypeError\u001b[0m: can only concatenate str (not \"int\") to str"
          ]
        }
      ]
    },
    {
      "cell_type": "markdown",
      "source": [
        "- **len()**\\\n",
        "len () function is an inbuilt function in Python programming language that returns the length of the string, does not apply to numeric variables\\\n",
        "It takes string as the parameter. It returns an integer which is the length of the string."
      ],
      "metadata": {
        "id": "BILqOkM1AHPm"
      }
    },
    {
      "cell_type": "code",
      "source": [
        "#  Evaluated x and y\n",
        "print(\"x =\", x)\n",
        "print(\"y =\", y)"
      ],
      "metadata": {
        "colab": {
          "base_uri": "https://localhost:8080/"
        },
        "id": "R0qYZogDBD0a",
        "outputId": "15cedb4b-1af8-4c2c-edc1-de157cffeba4"
      },
      "execution_count": null,
      "outputs": [
        {
          "output_type": "stream",
          "name": "stdout",
          "text": [
            "x = Python\n",
            "y = 2052\n"
          ]
        }
      ]
    },
    {
      "cell_type": "code",
      "source": [
        "# After it runs len of x and y will be returns the length of the string, does not apply to numeric variables\n",
        "print(\"len of x =\", len(x))"
      ],
      "metadata": {
        "colab": {
          "base_uri": "https://localhost:8080/"
        },
        "id": "MgDv4Cb9DH9z",
        "outputId": "82e5142c-e0e6-40c7-a35f-d490a725b11a"
      },
      "execution_count": null,
      "outputs": [
        {
          "output_type": "stream",
          "name": "stdout",
          "text": [
            "len of x = 6\n"
          ]
        }
      ]
    },
    {
      "cell_type": "code",
      "source": [
        "print(\"len of y =\", len(y))"
      ],
      "metadata": {
        "colab": {
          "base_uri": "https://localhost:8080/",
          "height": 165
        },
        "id": "ysZ574sLDVVQ",
        "outputId": "784cb01f-8f9f-41b6-ba6a-bc0081523c88"
      },
      "execution_count": null,
      "outputs": [
        {
          "output_type": "error",
          "ename": "TypeError",
          "evalue": "ignored",
          "traceback": [
            "\u001b[0;31m---------------------------------------------------------------------------\u001b[0m",
            "\u001b[0;31mTypeError\u001b[0m                                 Traceback (most recent call last)",
            "\u001b[0;32m<ipython-input-6-43522e41748c>\u001b[0m in \u001b[0;36m<module>\u001b[0;34m()\u001b[0m\n\u001b[0;32m----> 1\u001b[0;31m \u001b[0mprint\u001b[0m\u001b[0;34m(\u001b[0m\u001b[0;34m\"len of y =\"\u001b[0m\u001b[0;34m,\u001b[0m \u001b[0mlen\u001b[0m\u001b[0;34m(\u001b[0m\u001b[0my\u001b[0m\u001b[0;34m)\u001b[0m\u001b[0;34m)\u001b[0m\u001b[0;34m\u001b[0m\u001b[0;34m\u001b[0m\u001b[0m\n\u001b[0m",
            "\u001b[0;31mTypeError\u001b[0m: object of type 'int' has no len()"
          ]
        }
      ]
    },
    {
      "cell_type": "markdown",
      "source": [
        "##Thanks you!\n",
        "**Have a great day..**\\\n",
        "*See you again* ☺️"
      ],
      "metadata": {
        "id": "mDOMBs5a0Nak"
      }
    }
  ]
}