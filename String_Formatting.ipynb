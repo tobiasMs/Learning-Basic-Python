{
  "nbformat": 4,
  "nbformat_minor": 0,
  "metadata": {
    "colab": {
      "name": "String Formatting.ipynb",
      "provenance": [],
      "collapsed_sections": []
    },
    "kernelspec": {
      "name": "python3",
      "display_name": "Python 3"
    },
    "language_info": {
      "name": "python"
    }
  },
  "cells": [
    {
      "cell_type": "markdown",
      "source": [
        "#Adjustmen string"
      ],
      "metadata": {
        "id": "CYYN77BeqhQx"
      }
    },
    {
      "cell_type": "markdown",
      "source": [
        "string alignment is used to align the string by left, center or right"
      ],
      "metadata": {
        "id": "lVX0fYK3qG2I"
      }
    },
    {
      "cell_type": "markdown",
      "source": [
        "The rjust() method will right align the string, using a specified character (space is default) as the fill character. \n",
        "\n",
        "string.rjust(length, character) "
      ],
      "metadata": {
        "id": "o41Jsszzqy90"
      }
    },
    {
      "cell_type": "code",
      "execution_count": null,
      "metadata": {
        "id": "8za5yYTUqeQM"
      },
      "outputs": [],
      "source": [
        "a='Matplotlb Group'"
      ]
    },
    {
      "cell_type": "code",
      "source": [
        "len(a)"
      ],
      "metadata": {
        "colab": {
          "base_uri": "https://localhost:8080/"
        },
        "id": "qkTXE1JTrOUn",
        "outputId": "64222948-424d-418a-c64c-4072ece00e41"
      },
      "execution_count": null,
      "outputs": [
        {
          "output_type": "execute_result",
          "data": {
            "text/plain": [
              "15"
            ]
          },
          "metadata": {},
          "execution_count": 4
        }
      ]
    },
    {
      "cell_type": "code",
      "source": [
        "print(a)"
      ],
      "metadata": {
        "colab": {
          "base_uri": "https://localhost:8080/"
        },
        "id": "Agz8ST-Ash1U",
        "outputId": "cd188a26-c1df-4773-afd9-3428c4a68600"
      },
      "execution_count": null,
      "outputs": [
        {
          "output_type": "stream",
          "name": "stdout",
          "text": [
            "Matplotlb Group\n"
          ]
        }
      ]
    },
    {
      "cell_type": "markdown",
      "source": [
        "For the length of depending on the number of characters in the sentence. If the length is less than the number of characters in the word, then the alignment does not change"
      ],
      "metadata": {
        "id": "ze3bzJu9sLkV"
      }
    },
    {
      "cell_type": "code",
      "source": [
        "a.rjust(13)"
      ],
      "metadata": {
        "colab": {
          "base_uri": "https://localhost:8080/",
          "height": 36
        },
        "id": "bYQwP-rlscr2",
        "outputId": "cc5d6fdc-f362-4fc7-c9d9-258d31f952d4"
      },
      "execution_count": null,
      "outputs": [
        {
          "output_type": "execute_result",
          "data": {
            "text/plain": [
              "'Matplotlb Group'"
            ],
            "application/vnd.google.colaboratory.intrinsic+json": {
              "type": "string"
            }
          },
          "metadata": {},
          "execution_count": 9
        }
      ]
    },
    {
      "cell_type": "code",
      "source": [
        "a.rjust(17)"
      ],
      "metadata": {
        "colab": {
          "base_uri": "https://localhost:8080/",
          "height": 36
        },
        "id": "NSpJLYW7rK4s",
        "outputId": "91279a13-4dbc-4d6d-ac1d-71ec5c1d1255"
      },
      "execution_count": null,
      "outputs": [
        {
          "output_type": "execute_result",
          "data": {
            "text/plain": [
              "'  Matplotlb Group'"
            ],
            "application/vnd.google.colaboratory.intrinsic+json": {
              "type": "string"
            }
          },
          "metadata": {},
          "execution_count": 7
        }
      ]
    },
    {
      "cell_type": "code",
      "source": [
        "len(a.rjust(17))"
      ],
      "metadata": {
        "colab": {
          "base_uri": "https://localhost:8080/"
        },
        "id": "eiFtkZHxrSRx",
        "outputId": "50d91b08-8eea-4364-8768-540f75352e5e"
      },
      "execution_count": null,
      "outputs": [
        {
          "output_type": "execute_result",
          "data": {
            "text/plain": [
              "17"
            ]
          },
          "metadata": {},
          "execution_count": 8
        }
      ]
    },
    {
      "cell_type": "markdown",
      "source": [
        "For right alignment can be replaced by other string characters. If the character is replaced by a word it will be an error"
      ],
      "metadata": {
        "id": "_xNu19rktQta"
      }
    },
    {
      "cell_type": "code",
      "source": [
        "a.rjust(18,'.')"
      ],
      "metadata": {
        "colab": {
          "base_uri": "https://localhost:8080/",
          "height": 36
        },
        "id": "tHgKR2Q2tKpy",
        "outputId": "cc7e87b8-2be1-4258-d16f-24e89d8ee66e"
      },
      "execution_count": null,
      "outputs": [
        {
          "output_type": "execute_result",
          "data": {
            "text/plain": [
              "'...Matplotlb Group'"
            ],
            "application/vnd.google.colaboratory.intrinsic+json": {
              "type": "string"
            }
          },
          "metadata": {},
          "execution_count": 14
        }
      ]
    },
    {
      "cell_type": "code",
      "source": [
        "a.rjust(17,'aku')"
      ],
      "metadata": {
        "colab": {
          "base_uri": "https://localhost:8080/",
          "height": 172
        },
        "id": "KeACVf7Ms_tE",
        "outputId": "98702c99-77a6-40c1-ce5e-816817245a9e"
      },
      "execution_count": null,
      "outputs": [
        {
          "output_type": "error",
          "ename": "TypeError",
          "evalue": "ignored",
          "traceback": [
            "\u001b[0;31m---------------------------------------------------------------------------\u001b[0m",
            "\u001b[0;31mTypeError\u001b[0m                                 Traceback (most recent call last)",
            "\u001b[0;32m<ipython-input-15-00d45bc551d9>\u001b[0m in \u001b[0;36m<module>\u001b[0;34m()\u001b[0m\n\u001b[0;32m----> 1\u001b[0;31m \u001b[0ma\u001b[0m\u001b[0;34m.\u001b[0m\u001b[0mrjust\u001b[0m\u001b[0;34m(\u001b[0m\u001b[0;36m17\u001b[0m\u001b[0;34m,\u001b[0m\u001b[0;34m'aku'\u001b[0m\u001b[0;34m)\u001b[0m\u001b[0;34m\u001b[0m\u001b[0;34m\u001b[0m\u001b[0m\n\u001b[0m",
            "\u001b[0;31mTypeError\u001b[0m: The fill character must be exactly one character long"
          ]
        }
      ]
    },
    {
      "cell_type": "markdown",
      "source": [
        "The ljust() method will left align the string, using a specified character (space is default) as the fill character.\n",
        "\n",
        "string.ljust(length, character)\n"
      ],
      "metadata": {
        "id": "6hYvlJlKsmFg"
      }
    },
    {
      "cell_type": "code",
      "source": [
        "a.ljust(19)"
      ],
      "metadata": {
        "colab": {
          "base_uri": "https://localhost:8080/",
          "height": 36
        },
        "id": "WB7AsTjsrCxs",
        "outputId": "a5a77ffa-21a7-45f5-c8dc-eaebb383f6ad"
      },
      "execution_count": null,
      "outputs": [
        {
          "output_type": "execute_result",
          "data": {
            "text/plain": [
              "'Matplotlb Group    '"
            ],
            "application/vnd.google.colaboratory.intrinsic+json": {
              "type": "string"
            }
          },
          "metadata": {},
          "execution_count": 11
        }
      ]
    },
    {
      "cell_type": "code",
      "source": [
        "a.ljust(19,'-')"
      ],
      "metadata": {
        "colab": {
          "base_uri": "https://localhost:8080/",
          "height": 36
        },
        "id": "eeTBfGjzq8CU",
        "outputId": "a335c6e4-f2da-4fcb-c326-13e9655a557b"
      },
      "execution_count": null,
      "outputs": [
        {
          "output_type": "execute_result",
          "data": {
            "text/plain": [
              "'Matplotlb Group----'"
            ],
            "application/vnd.google.colaboratory.intrinsic+json": {
              "type": "string"
            }
          },
          "metadata": {},
          "execution_count": 16
        }
      ]
    },
    {
      "cell_type": "markdown",
      "source": [
        "The center() method will center align the string, using a specified character (space is default) as the fill character."
      ],
      "metadata": {
        "id": "xs3bGZ6cuVma"
      }
    },
    {
      "cell_type": "code",
      "source": [
        "a.center(20)"
      ],
      "metadata": {
        "colab": {
          "base_uri": "https://localhost:8080/",
          "height": 36
        },
        "id": "8n1qRdvfrRda",
        "outputId": "4e29e81e-8889-4cb9-c7c9-96e6d05f0fdc"
      },
      "execution_count": null,
      "outputs": [
        {
          "output_type": "execute_result",
          "data": {
            "text/plain": [
              "'  Matplotlb Group   '"
            ],
            "application/vnd.google.colaboratory.intrinsic+json": {
              "type": "string"
            }
          },
          "metadata": {},
          "execution_count": 17
        }
      ]
    },
    {
      "cell_type": "code",
      "source": [
        "a.center(20,'-')"
      ],
      "metadata": {
        "colab": {
          "base_uri": "https://localhost:8080/",
          "height": 36
        },
        "id": "k8MIhA6LuSUS",
        "outputId": "b21a573f-8a58-4497-8aa0-b5cf7d04b5eb"
      },
      "execution_count": null,
      "outputs": [
        {
          "output_type": "execute_result",
          "data": {
            "text/plain": [
              "'--Matplotlb Group---'"
            ],
            "application/vnd.google.colaboratory.intrinsic+json": {
              "type": "string"
            }
          },
          "metadata": {},
          "execution_count": 18
        }
      ]
    },
    {
      "cell_type": "markdown",
      "source": [
        "This alignment can also be used in long sentences"
      ],
      "metadata": {
        "id": "HWUwkFXMwCWd"
      }
    },
    {
      "cell_type": "code",
      "source": [
        "p=\"\"\"Matplotlib group member are Tobias, Daud, Sari, Fitri, Rere. \n",
        "We worked together to make this portfolio together. \n",
        "So far we have made two portfolios about python \"\"\""
      ],
      "metadata": {
        "id": "FQdC7Y9QsMQ1"
      },
      "execution_count": null,
      "outputs": []
    },
    {
      "cell_type": "code",
      "source": [
        "print(p)"
      ],
      "metadata": {
        "colab": {
          "base_uri": "https://localhost:8080/"
        },
        "id": "sGmjDnV5taRQ",
        "outputId": "de481cf4-186e-4f6b-e9b1-c01dd3a9bd86"
      },
      "execution_count": null,
      "outputs": [
        {
          "output_type": "stream",
          "name": "stdout",
          "text": [
            "Matplotlib group member are Tobias, Daud, Sari, Fitri, Rere. \n",
            "We worked together to make this portfolio together. \n",
            "So far we have made two portfolios about python \n"
          ]
        }
      ]
    },
    {
      "cell_type": "code",
      "source": [
        "len(p)"
      ],
      "metadata": {
        "colab": {
          "base_uri": "https://localhost:8080/"
        },
        "id": "BIEyVVzAttiP",
        "outputId": "0601078b-b7dc-4f1d-c0f9-115ddd5882e6"
      },
      "execution_count": null,
      "outputs": [
        {
          "output_type": "execute_result",
          "data": {
            "text/plain": [
              "163"
            ]
          },
          "metadata": {},
          "execution_count": 31
        }
      ]
    },
    {
      "cell_type": "code",
      "source": [
        "p.rjust(169)"
      ],
      "metadata": {
        "colab": {
          "base_uri": "https://localhost:8080/",
          "height": 54
        },
        "id": "FrMD_5c7spDO",
        "outputId": "125c7c58-b97f-4e6d-de9c-eb0193c581b8"
      },
      "execution_count": null,
      "outputs": [
        {
          "output_type": "execute_result",
          "data": {
            "text/plain": [
              "'      Matplotlib group member are Tobias, Daud, Sari, Fitri, Rere. \\nWe worked together to make this portfolio together. \\nSo far we have made two portfolios about python '"
            ],
            "application/vnd.google.colaboratory.intrinsic+json": {
              "type": "string"
            }
          },
          "metadata": {},
          "execution_count": 32
        }
      ]
    },
    {
      "cell_type": "code",
      "source": [
        "p.ljust(169)"
      ],
      "metadata": {
        "colab": {
          "base_uri": "https://localhost:8080/",
          "height": 54
        },
        "id": "Ufh87EefszmM",
        "outputId": "98ccd63e-cf70-4ee6-c165-d67b6d879fb7"
      },
      "execution_count": null,
      "outputs": [
        {
          "output_type": "execute_result",
          "data": {
            "text/plain": [
              "'Matplotlib group member are Tobias, Daud, Sari, Fitri, Rere. \\nWe worked together to make this portfolio together. \\nSo far we have made two portfolios about python       '"
            ],
            "application/vnd.google.colaboratory.intrinsic+json": {
              "type": "string"
            }
          },
          "metadata": {},
          "execution_count": 33
        }
      ]
    },
    {
      "cell_type": "code",
      "source": [
        "p.center(169)"
      ],
      "metadata": {
        "colab": {
          "base_uri": "https://localhost:8080/",
          "height": 54
        },
        "id": "OPNl89TltIUP",
        "outputId": "c808648c-0687-4a62-b6e1-e4a2158cf3dc"
      },
      "execution_count": null,
      "outputs": [
        {
          "output_type": "execute_result",
          "data": {
            "text/plain": [
              "'   Matplotlib group member are Tobias, Daud, Sari, Fitri, Rere. \\nWe worked together to make this portfolio together. \\nSo far we have made two portfolios about python    '"
            ],
            "application/vnd.google.colaboratory.intrinsic+json": {
              "type": "string"
            }
          },
          "metadata": {},
          "execution_count": 34
        }
      ]
    },
    {
      "cell_type": "code",
      "source": [
        "len(p.rjust(169))"
      ],
      "metadata": {
        "colab": {
          "base_uri": "https://localhost:8080/"
        },
        "id": "TO52AK1ivcHQ",
        "outputId": "000b4f07-954d-48cb-e6ca-114a7a7e8d0f"
      },
      "execution_count": null,
      "outputs": [
        {
          "output_type": "execute_result",
          "data": {
            "text/plain": [
              "169"
            ]
          },
          "metadata": {},
          "execution_count": 35
        }
      ]
    },
    {
      "cell_type": "markdown",
      "source": [
        "If the length is less than the number of characters in the existing sentence then the sentence will not change"
      ],
      "metadata": {
        "id": "9BxMuLTmvoqS"
      }
    },
    {
      "cell_type": "code",
      "source": [
        "len(p.rjust(5))"
      ],
      "metadata": {
        "colab": {
          "base_uri": "https://localhost:8080/"
        },
        "id": "JNUZofx-txbI",
        "outputId": "e85db7cf-0068-49f7-c86d-f4f8a1c7da91"
      },
      "execution_count": null,
      "outputs": [
        {
          "output_type": "execute_result",
          "data": {
            "text/plain": [
              "113"
            ]
          },
          "metadata": {},
          "execution_count": 26
        }
      ]
    },
    {
      "cell_type": "code",
      "source": [
        "len(prf.center(9))"
      ],
      "metadata": {
        "colab": {
          "base_uri": "https://localhost:8080/"
        },
        "id": "NGT0MDYvucfX",
        "outputId": "9cc1953b-3728-4ff0-f569-d54a7af2b1a8"
      },
      "execution_count": null,
      "outputs": [
        {
          "output_type": "execute_result",
          "data": {
            "text/plain": [
              "174"
            ]
          },
          "metadata": {},
          "execution_count": 53
        }
      ]
    },
    {
      "cell_type": "markdown",
      "source": [
        "#Using \\"
      ],
      "metadata": {
        "id": "zFx0Z6Kr0Tt9"
      }
    },
    {
      "cell_type": "markdown",
      "source": [
        "if in python you want to use apostrophe you must add ( \\ ) so that apostrophe can be read"
      ],
      "metadata": {
        "id": "f_wPq368w6FB"
      }
    },
    {
      "cell_type": "code",
      "source": [
        "'Jum'at"
      ],
      "metadata": {
        "colab": {
          "base_uri": "https://localhost:8080/",
          "height": 135
        },
        "id": "DUvxG-jbw5ga",
        "outputId": "25879f96-4f48-437b-affc-1a05a04f6c98"
      },
      "execution_count": null,
      "outputs": [
        {
          "output_type": "error",
          "ename": "SyntaxError",
          "evalue": "ignored",
          "traceback": [
            "\u001b[0;36m  File \u001b[0;32m\"<ipython-input-37-b7dcd44afe8e>\"\u001b[0;36m, line \u001b[0;32m1\u001b[0m\n\u001b[0;31m    'Jum'at\u001b[0m\n\u001b[0m          ^\u001b[0m\n\u001b[0;31mSyntaxError\u001b[0m\u001b[0;31m:\u001b[0m invalid syntax\n"
          ]
        }
      ]
    },
    {
      "cell_type": "code",
      "source": [
        "'Jum\\'at'"
      ],
      "metadata": {
        "colab": {
          "base_uri": "https://localhost:8080/",
          "height": 36
        },
        "id": "58K-E5y4wZB7",
        "outputId": "af017eb2-1306-4d9c-f231-dcbb99051161"
      },
      "execution_count": null,
      "outputs": [
        {
          "output_type": "execute_result",
          "data": {
            "text/plain": [
              "\"Jum'at\""
            ],
            "application/vnd.google.colaboratory.intrinsic+json": {
              "type": "string"
            }
          },
          "metadata": {},
          "execution_count": 66
        }
      ]
    },
    {
      "cell_type": "code",
      "source": [
        "print('Jum\\'at')"
      ],
      "metadata": {
        "colab": {
          "base_uri": "https://localhost:8080/"
        },
        "id": "i641DyApxsoz",
        "outputId": "47b564c8-1a93-490e-b043-d325c0cf7944"
      },
      "execution_count": null,
      "outputs": [
        {
          "output_type": "stream",
          "name": "stdout",
          "text": [
            "Jum'at\n"
          ]
        }
      ]
    },
    {
      "cell_type": "markdown",
      "source": [
        "\\ can also provide tabs when \\ is used with the letter t. when used with the letter n it will define as enter."
      ],
      "metadata": {
        "id": "qNy4sXCJzytY"
      }
    },
    {
      "cell_type": "code",
      "source": [
        "s='\\tWe\\'re friends who were introduced \\n through the study independent'"
      ],
      "metadata": {
        "id": "WCWmCKXQwhMc"
      },
      "execution_count": null,
      "outputs": []
    },
    {
      "cell_type": "code",
      "source": [
        "print(s)"
      ],
      "metadata": {
        "colab": {
          "base_uri": "https://localhost:8080/"
        },
        "id": "ggb8zwbezOnA",
        "outputId": "81ae2574-d13b-45a4-cb5d-a902dc8cf7d0"
      },
      "execution_count": null,
      "outputs": [
        {
          "output_type": "stream",
          "name": "stdout",
          "text": [
            "\tWe're friends who were introduced \n",
            " through the study independent\n"
          ]
        }
      ]
    },
    {
      "cell_type": "markdown",
      "source": [
        "If you add the letter r at the beginning of the sentence, it will reverse the result in the initial format"
      ],
      "metadata": {
        "id": "fyf2LbZ20ke0"
      }
    },
    {
      "cell_type": "code",
      "source": [
        "print(r'\\tWe\\'re friends who were introduced through the study independent')"
      ],
      "metadata": {
        "colab": {
          "base_uri": "https://localhost:8080/"
        },
        "id": "9OVDfqH8yghi",
        "outputId": "10a714dd-eb37-4cf0-e652-de799c804b67"
      },
      "execution_count": null,
      "outputs": [
        {
          "output_type": "stream",
          "name": "stdout",
          "text": [
            "\\tWe\\'re friends who were introduced through the study independent\n"
          ]
        }
      ]
    },
    {
      "cell_type": "markdown",
      "source": [
        "#Upper Lower"
      ],
      "metadata": {
        "id": "Ef_Ap9Rw0-Mn"
      }
    },
    {
      "cell_type": "code",
      "source": [
        "h='let\\'s find some food'"
      ],
      "metadata": {
        "id": "LoLYKU-F33Bs"
      },
      "execution_count": null,
      "outputs": []
    },
    {
      "cell_type": "code",
      "source": [
        "g='My Name Is Tobias'"
      ],
      "metadata": {
        "id": "nkveF3GNqBwp"
      },
      "execution_count": null,
      "outputs": []
    },
    {
      "cell_type": "markdown",
      "source": [
        "To check sentences are upper case using isupper(). Returns True if all characters in the string are upper case. If there is 1 lowercase letter it will be false. "
      ],
      "metadata": {
        "id": "5-evtd3H2lf4"
      }
    },
    {
      "cell_type": "code",
      "source": [
        "h.isupper()"
      ],
      "metadata": {
        "colab": {
          "base_uri": "https://localhost:8080/"
        },
        "id": "r0USM6-X4YSj",
        "outputId": "4d4d77ca-0e8a-4d4c-9f6f-16db530a466e"
      },
      "execution_count": null,
      "outputs": [
        {
          "output_type": "execute_result",
          "data": {
            "text/plain": [
              "False"
            ]
          },
          "metadata": {},
          "execution_count": 57
        }
      ]
    },
    {
      "cell_type": "code",
      "source": [
        "g.isupper()"
      ],
      "metadata": {
        "colab": {
          "base_uri": "https://localhost:8080/"
        },
        "id": "-rWR06Ez2b5F",
        "outputId": "3299073c-01b3-4db1-b290-3ef3b3fd5f9e"
      },
      "execution_count": null,
      "outputs": [
        {
          "output_type": "execute_result",
          "data": {
            "text/plain": [
              "False"
            ]
          },
          "metadata": {},
          "execution_count": 51
        }
      ]
    },
    {
      "cell_type": "markdown",
      "source": [
        "The upper() method returns a string where all characters are in upper case.\n",
        "\n",
        " Symbols and Numbers are ignored."
      ],
      "metadata": {
        "id": "kOERTTiA15tg"
      }
    },
    {
      "cell_type": "code",
      "source": [
        "h.upper()"
      ],
      "metadata": {
        "colab": {
          "base_uri": "https://localhost:8080/",
          "height": 36
        },
        "id": "V-9RY_Sc4bvE",
        "outputId": "487b9acd-fc1b-4b46-d275-ebe37591ac95"
      },
      "execution_count": null,
      "outputs": [
        {
          "output_type": "execute_result",
          "data": {
            "text/plain": [
              "\"LET'S FIND SOME FOOD\""
            ],
            "application/vnd.google.colaboratory.intrinsic+json": {
              "type": "string"
            }
          },
          "metadata": {},
          "execution_count": 58
        }
      ]
    },
    {
      "cell_type": "code",
      "source": [
        "g.upper()"
      ],
      "metadata": {
        "colab": {
          "base_uri": "https://localhost:8080/",
          "height": 36
        },
        "id": "1PTIFM-p2PUs",
        "outputId": "c6e570fc-7625-4221-d07a-c809bca8c985"
      },
      "execution_count": null,
      "outputs": [
        {
          "output_type": "execute_result",
          "data": {
            "text/plain": [
              "'MY NAME IS TOBIAS'"
            ],
            "application/vnd.google.colaboratory.intrinsic+json": {
              "type": "string"
            }
          },
          "metadata": {},
          "execution_count": 49
        }
      ]
    },
    {
      "cell_type": "markdown",
      "source": [
        "To check sentences are lower case using islower(). Returns True if all characters in the string are lower case. If there is 1 uppercase letter it will be false. "
      ],
      "metadata": {
        "id": "hZRc7qyJ3qLS"
      }
    },
    {
      "cell_type": "code",
      "source": [
        "h.islower()"
      ],
      "metadata": {
        "colab": {
          "base_uri": "https://localhost:8080/"
        },
        "id": "i9QEXg__4EGD",
        "outputId": "f62bcf92-2ccc-4f04-bc9a-2f1d9cbd1723"
      },
      "execution_count": null,
      "outputs": [
        {
          "output_type": "execute_result",
          "data": {
            "text/plain": [
              "True"
            ]
          },
          "metadata": {},
          "execution_count": 54
        }
      ]
    },
    {
      "cell_type": "code",
      "source": [
        "g.islower()"
      ],
      "metadata": {
        "colab": {
          "base_uri": "https://localhost:8080/"
        },
        "id": "YX2zfXnY4ob4",
        "outputId": "976320ed-2c92-405a-ae94-fea6649c9c51"
      },
      "execution_count": null,
      "outputs": [
        {
          "output_type": "execute_result",
          "data": {
            "text/plain": [
              "False"
            ]
          },
          "metadata": {},
          "execution_count": 60
        }
      ]
    },
    {
      "cell_type": "markdown",
      "source": [
        "The lower() method returns a string where all characters are lower case.\n",
        "\n",
        " Symbols and Numbers are ignored."
      ],
      "metadata": {
        "id": "l8kQ3Pjk3elI"
      }
    },
    {
      "cell_type": "code",
      "source": [
        "h.lower()"
      ],
      "metadata": {
        "colab": {
          "base_uri": "https://localhost:8080/",
          "height": 36
        },
        "id": "ZRBaNxuX4Je3",
        "outputId": "fab0bfc7-dbfe-45e8-ae1a-1af15866470b"
      },
      "execution_count": null,
      "outputs": [
        {
          "output_type": "execute_result",
          "data": {
            "text/plain": [
              "\"let's find some food\""
            ],
            "application/vnd.google.colaboratory.intrinsic+json": {
              "type": "string"
            }
          },
          "metadata": {},
          "execution_count": 55
        }
      ]
    },
    {
      "cell_type": "code",
      "source": [
        "g.lower()"
      ],
      "metadata": {
        "colab": {
          "base_uri": "https://localhost:8080/",
          "height": 36
        },
        "id": "19nPAr6l4jW8",
        "outputId": "4d2505f3-6e63-46a7-9f15-f486c131d003"
      },
      "execution_count": null,
      "outputs": [
        {
          "output_type": "execute_result",
          "data": {
            "text/plain": [
              "'my name is tobias'"
            ],
            "application/vnd.google.colaboratory.intrinsic+json": {
              "type": "string"
            }
          },
          "metadata": {},
          "execution_count": 59
        }
      ]
    },
    {
      "cell_type": "markdown",
      "source": [
        "#Zfill"
      ],
      "metadata": {
        "id": "UYcLiWk--gk1"
      }
    },
    {
      "cell_type": "markdown",
      "source": [
        "The zfill() method adds zeros (0) at the beginning of the string, until it reaches the specified length.\n",
        "\n"
      ],
      "metadata": {
        "id": "TzGt02iz-p4I"
      }
    },
    {
      "cell_type": "code",
      "source": [
        "t='14'"
      ],
      "metadata": {
        "id": "aB25uKF5-G4a"
      },
      "execution_count": null,
      "outputs": []
    },
    {
      "cell_type": "code",
      "source": [
        "u='tobias'"
      ],
      "metadata": {
        "id": "N6bbKuD__TEF"
      },
      "execution_count": null,
      "outputs": []
    },
    {
      "cell_type": "code",
      "source": [
        "w=1923"
      ],
      "metadata": {
        "id": "mMFswaxT_iRI"
      },
      "execution_count": null,
      "outputs": []
    },
    {
      "cell_type": "code",
      "source": [
        "t.zfill(3)"
      ],
      "metadata": {
        "colab": {
          "base_uri": "https://localhost:8080/",
          "height": 36
        },
        "id": "v8lMinmK-xnS",
        "outputId": "c44e484a-0e2f-43e9-bbb2-49d6012c937f"
      },
      "execution_count": null,
      "outputs": [
        {
          "output_type": "execute_result",
          "data": {
            "text/plain": [
              "'014'"
            ],
            "application/vnd.google.colaboratory.intrinsic+json": {
              "type": "string"
            }
          },
          "metadata": {},
          "execution_count": 98
        }
      ]
    },
    {
      "cell_type": "code",
      "source": [
        "u.zfill(9)"
      ],
      "metadata": {
        "colab": {
          "base_uri": "https://localhost:8080/",
          "height": 36
        },
        "id": "gpZhLiw0_WWB",
        "outputId": "d9780a60-792c-490e-89b1-5ea271f6ed58"
      },
      "execution_count": null,
      "outputs": [
        {
          "output_type": "execute_result",
          "data": {
            "text/plain": [
              "'000tobias'"
            ],
            "application/vnd.google.colaboratory.intrinsic+json": {
              "type": "string"
            }
          },
          "metadata": {},
          "execution_count": 100
        }
      ]
    },
    {
      "cell_type": "markdown",
      "source": [
        "if other than string then won't be able to work. So you have to change the string first for it to work"
      ],
      "metadata": {
        "id": "nHklgAhf_qkV"
      }
    },
    {
      "cell_type": "code",
      "source": [
        "w.zfill(6)"
      ],
      "metadata": {
        "colab": {
          "base_uri": "https://localhost:8080/",
          "height": 172
        },
        "id": "LUSoAtKj_nRe",
        "outputId": "1bd3e3bc-40e5-4322-ded9-18567add0f05"
      },
      "execution_count": null,
      "outputs": [
        {
          "output_type": "error",
          "ename": "AttributeError",
          "evalue": "ignored",
          "traceback": [
            "\u001b[0;31m---------------------------------------------------------------------------\u001b[0m",
            "\u001b[0;31mAttributeError\u001b[0m                            Traceback (most recent call last)",
            "\u001b[0;32m<ipython-input-102-2da7cd5325e8>\u001b[0m in \u001b[0;36m<module>\u001b[0;34m()\u001b[0m\n\u001b[0;32m----> 1\u001b[0;31m \u001b[0mw\u001b[0m\u001b[0;34m.\u001b[0m\u001b[0mzfill\u001b[0m\u001b[0;34m(\u001b[0m\u001b[0;36m6\u001b[0m\u001b[0;34m)\u001b[0m\u001b[0;34m\u001b[0m\u001b[0;34m\u001b[0m\u001b[0m\n\u001b[0m",
            "\u001b[0;31mAttributeError\u001b[0m: 'int' object has no attribute 'zfill'"
          ]
        }
      ]
    },
    {
      "cell_type": "code",
      "source": [
        "str(w).zfill(6)"
      ],
      "metadata": {
        "colab": {
          "base_uri": "https://localhost:8080/",
          "height": 36
        },
        "id": "LZUeEXaeAD_A",
        "outputId": "b1b44289-fe34-4906-915e-4da0caed2628"
      },
      "execution_count": null,
      "outputs": [
        {
          "output_type": "execute_result",
          "data": {
            "text/plain": [
              "'001923'"
            ],
            "application/vnd.google.colaboratory.intrinsic+json": {
              "type": "string"
            }
          },
          "metadata": {},
          "execution_count": 103
        }
      ]
    },
    {
      "cell_type": "markdown",
      "source": [
        "If the value of the len parameter is less than the length of the string, no filling is done.\n"
      ],
      "metadata": {
        "id": "0pBR-_wPAeCF"
      }
    },
    {
      "cell_type": "code",
      "source": [
        "str(w).zfill(2)"
      ],
      "metadata": {
        "colab": {
          "base_uri": "https://localhost:8080/",
          "height": 36
        },
        "id": "hetVTgdCAVje",
        "outputId": "79878220-3f26-479c-844b-daf99015efb4"
      },
      "execution_count": null,
      "outputs": [
        {
          "output_type": "execute_result",
          "data": {
            "text/plain": [
              "'1923'"
            ],
            "application/vnd.google.colaboratory.intrinsic+json": {
              "type": "string"
            }
          },
          "metadata": {},
          "execution_count": 104
        }
      ]
    }
  ]
}