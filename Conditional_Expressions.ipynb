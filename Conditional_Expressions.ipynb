{
  "nbformat": 4,
  "nbformat_minor": 0,
  "metadata": {
    "colab": {
      "name": "Conditional Expressions.ipynb",
      "provenance": [],
      "collapsed_sections": []
    },
    "kernelspec": {
      "name": "python3",
      "display_name": "Python 3"
    },
    "language_info": {
      "name": "python"
    }
  },
  "cells": [
    {
      "cell_type": "markdown",
      "source": [
        "#Conditional Expressions"
      ],
      "metadata": {
        "id": "q5hKYSkRBO4h"
      }
    },
    {
      "cell_type": "markdown",
      "source": [
        "A conditional expression in Python is an expression (in other words, a piece of code that evaluates to a result) whose value depends on a condition."
      ],
      "metadata": {
        "id": "eRD_tKuOBMAI"
      }
    },
    {
      "cell_type": "markdown",
      "source": [
        "###IF\n",
        "* The statement will only be executed depending on whether the condition expression evaluates to True. If the condition expression evaluates to False, the statement is not executed.\n",
        "* In Python, the body of the if statement is indicated by the indentation. The body starts with an indentation and the first unindented line marks the end.\n",
        "* Python interprets non-zero values as True. None and 0 are interpreted as False"
      ],
      "metadata": {
        "id": "CK4kgihXC2eQ"
      }
    },
    {
      "cell_type": "code",
      "execution_count": null,
      "metadata": {
        "id": "zXlK8HANzk3a",
        "colab": {
          "base_uri": "https://localhost:8080/"
        },
        "outputId": "b4f068a7-f24b-4c04-f08e-a2c68f5434a9"
      },
      "outputs": [
        {
          "output_type": "stream",
          "name": "stdout",
          "text": [
            "Halo! My name is Fitri\n"
          ]
        }
      ],
      "source": [
        "team_member = \"Fitri\"\n",
        "if team_member :\n",
        "  print(\"Halo! My name is {}\".format(team_member))"
      ]
    },
    {
      "cell_type": "markdown",
      "source": [
        "###IF ELSE\n",
        "* The if..else statement evaluates test expression and will execute the body of if only when the test condition is True.\n",
        "\n",
        "* If the condition is False, the body of else is executed. \n",
        "* Indentation is used to separate the blocks.\n"
      ],
      "metadata": {
        "id": "wIvbZ3H7EAx9"
      }
    },
    {
      "cell_type": "code",
      "source": [
        "number = int(input(\"Input a number : \"))\n",
        "if number < 0 :\n",
        "  print(\"Negative number\")\n",
        "else :\n",
        "  print(\"Zero or Positive number\")"
      ],
      "metadata": {
        "colab": {
          "base_uri": "https://localhost:8080/"
        },
        "id": "ofj_3cIsEQxv",
        "outputId": "2411653d-2ba0-4ea6-81c3-76395675d644"
      },
      "execution_count": null,
      "outputs": [
        {
          "output_type": "stream",
          "name": "stdout",
          "text": [
            "Input a number : 80\n",
            "Zero or Positive number\n"
          ]
        }
      ]
    },
    {
      "cell_type": "markdown",
      "source": [
        "In the above example, when number is less than 0, the test expression is true and the body of if is executed and the body of else is skipped.\n",
        "<br>If num is equal to 80, the test expression is False (because 80 isn't less than 0), the body of else is executed and the body of if is skipped."
      ],
      "metadata": {
        "id": "fe9AdNAqFK5q"
      }
    },
    {
      "cell_type": "markdown",
      "source": [
        "###ELIF\n",
        "* The elif is short for else if. It allows us to check for multiple\n",
        "expressions.\n",
        "\n",
        "* If the condition for if is False, it checks the condition of the next elif block and so on.\n",
        "\n",
        "* If all the conditions are False, the body of else is executed.\n",
        "\n",
        "* Only one block among the several if...elif...else blocks is executed according to the condition.\n",
        "\n",
        "* The if block can have only one else block. But it can have multiple elif blocks."
      ],
      "metadata": {
        "id": "8ngLu-thFvUQ"
      }
    },
    {
      "cell_type": "code",
      "source": [
        "rank = int(input(\"What rank are you ?  \"))\n",
        "if 0<rank<=10 :\n",
        "  print(\"Amazing, keep it up\") \n",
        "elif rank<=20 :\n",
        "  print(\"Nice, keep up the good work\")\n",
        "elif rank<=30 :\n",
        "  print(\"Good job, keep studying hard\")\n",
        "else :\n",
        "  print(\"It's okay, next time let's study harder\")"
      ],
      "metadata": {
        "colab": {
          "base_uri": "https://localhost:8080/"
        },
        "id": "yXHUX2SnFB9W",
        "outputId": "fd994fc0-110e-4976-8b8b-eff65dc7b987"
      },
      "execution_count": null,
      "outputs": [
        {
          "output_type": "stream",
          "name": "stdout",
          "text": [
            "What rank are you ?  20\n",
            "Nice, keep up the good work\n"
          ]
        }
      ]
    }
  ]
}