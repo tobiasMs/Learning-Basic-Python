{
  "nbformat": 4,
  "nbformat_minor": 0,
  "metadata": {
    "colab": {
      "name": "Operator, Operands, dan Expression.ipynb",
      "provenance": [],
      "collapsed_sections": []
    },
    "kernelspec": {
      "name": "python3",
      "display_name": "Python 3"
    },
    "language_info": {
      "name": "python"
    }
  },
  "cells": [
    {
      "cell_type": "markdown",
      "source": [
        "#Operator, Operands, dan Expression"
      ],
      "metadata": {
        "id": "FXIlgIp5a3kh"
      }
    },
    {
      "cell_type": "markdown",
      "source": [
        "**Operator and Operands**\n",
        "<p>Operators are special symbols in Python that carry out arithmetic or logical computation. The value that the operator operates on is called the operand.</p> \n",
        "\n",
        "**Expression**\n",
        "<p>A sequence of operands and operators, like a + b - 5, is called an expression. Python supports many operators for combining data objects into expressions.</p>"
      ],
      "metadata": {
        "id": "9kYhaDHRghjX"
      }
    },
    {
      "cell_type": "markdown",
      "source": [
        "###Arithmetic Operators\n",
        "\n",
        "<p>Arithmetic operators are used to perform mathematical operations like addition, subtraction, multiplication, etc.</p>"
      ],
      "metadata": {
        "id": "jyVc96o8g8DG"
      }
    },
    {
      "cell_type": "markdown",
      "source": [
        "####Addition(+) \n",
        "<p> Used to add two operands or more, or used as unary plus. "
      ],
      "metadata": {
        "id": "zzEjGDVGhMpN"
      }
    },
    {
      "cell_type": "code",
      "execution_count": null,
      "metadata": {
        "id": "9HtSJXA2OfYA"
      },
      "outputs": [],
      "source": [
        "a = 25\n",
        "b = 21\n",
        "c = 29.5\n",
        "d = 60"
      ]
    },
    {
      "cell_type": "code",
      "source": [
        "a + b"
      ],
      "metadata": {
        "colab": {
          "base_uri": "https://localhost:8080/"
        },
        "id": "HEn7vLciiPAi",
        "outputId": "e06fd8bb-4759-4bd5-b6f3-cd3ff074311c"
      },
      "execution_count": null,
      "outputs": [
        {
          "output_type": "execute_result",
          "data": {
            "text/plain": [
              "46"
            ]
          },
          "metadata": {},
          "execution_count": 6
        }
      ]
    },
    {
      "cell_type": "code",
      "source": [
        "b + c + d"
      ],
      "metadata": {
        "colab": {
          "base_uri": "https://localhost:8080/"
        },
        "id": "2hF_sJuyjqEI",
        "outputId": "142b23b8-a057-45c1-fdb2-a4f84557ac45"
      },
      "execution_count": null,
      "outputs": [
        {
          "output_type": "execute_result",
          "data": {
            "text/plain": [
              "110.5"
            ]
          },
          "metadata": {},
          "execution_count": 14
        }
      ]
    },
    {
      "cell_type": "markdown",
      "source": [
        "This operator not only used for numeric data types, but can also be used for string data types"
      ],
      "metadata": {
        "id": "wGnXsd7KiaWJ"
      }
    },
    {
      "cell_type": "code",
      "source": [
        "x = \"Data \"\n",
        "y = \"Science\""
      ],
      "metadata": {
        "id": "m-o0XgNqiYmo"
      },
      "execution_count": null,
      "outputs": []
    },
    {
      "cell_type": "code",
      "source": [
        "x + y"
      ],
      "metadata": {
        "colab": {
          "base_uri": "https://localhost:8080/",
          "height": 35
        },
        "id": "xxcOYYzHiyOi",
        "outputId": "1bc0a28b-2236-4cd4-9ed0-fc34d49984d6"
      },
      "execution_count": null,
      "outputs": [
        {
          "output_type": "execute_result",
          "data": {
            "text/plain": [
              "'Data Science'"
            ],
            "application/vnd.google.colaboratory.intrinsic+json": {
              "type": "string"
            }
          },
          "metadata": {},
          "execution_count": 12
        }
      ]
    },
    {
      "cell_type": "markdown",
      "source": [
        "####Subtraction (-)\n",
        "<p>Used to subtract right operand from the left or used as unary minus</p>"
      ],
      "metadata": {
        "id": "FzDWbXFwjuLe"
      }
    },
    {
      "cell_type": "code",
      "source": [
        "a = 25\n",
        "b = 21\n",
        "c = 29.5\n",
        "d = 60"
      ],
      "metadata": {
        "id": "cHn_CptUkAnC"
      },
      "execution_count": null,
      "outputs": []
    },
    {
      "cell_type": "code",
      "source": [
        "a - b"
      ],
      "metadata": {
        "colab": {
          "base_uri": "https://localhost:8080/"
        },
        "id": "nVQ4Ar43kTGg",
        "outputId": "e0585021-007d-4ec7-c3d2-23dbf0e3c58c"
      },
      "execution_count": null,
      "outputs": [
        {
          "output_type": "execute_result",
          "data": {
            "text/plain": [
              "4"
            ]
          },
          "metadata": {},
          "execution_count": 16
        }
      ]
    },
    {
      "cell_type": "code",
      "source": [
        "d - c - a"
      ],
      "metadata": {
        "colab": {
          "base_uri": "https://localhost:8080/"
        },
        "id": "98NqvUclkT7W",
        "outputId": "f0e5a1fd-2236-4699-d58f-557032994d6b"
      },
      "execution_count": null,
      "outputs": [
        {
          "output_type": "execute_result",
          "data": {
            "text/plain": [
              "5.5"
            ]
          },
          "metadata": {},
          "execution_count": 17
        }
      ]
    },
    {
      "cell_type": "markdown",
      "source": [
        "Unlike the addition operator, this operator cannot be used to string data types"
      ],
      "metadata": {
        "id": "8UYAbaIAkhdJ"
      }
    },
    {
      "cell_type": "code",
      "source": [
        "x = \"Data \"\n",
        "y = \"Da\""
      ],
      "metadata": {
        "id": "dWb7VHM5kk2-"
      },
      "execution_count": null,
      "outputs": []
    },
    {
      "cell_type": "code",
      "source": [
        "x - y"
      ],
      "metadata": {
        "colab": {
          "base_uri": "https://localhost:8080/",
          "height": 171
        },
        "id": "dOhq92EZkoQB",
        "outputId": "c82b2702-8a66-4243-9397-b49deed68a12"
      },
      "execution_count": null,
      "outputs": [
        {
          "output_type": "error",
          "ename": "TypeError",
          "evalue": "ignored",
          "traceback": [
            "\u001b[0;31m---------------------------------------------------------------------------\u001b[0m",
            "\u001b[0;31mTypeError\u001b[0m                                 Traceback (most recent call last)",
            "\u001b[0;32m<ipython-input-19-86286c876b5e>\u001b[0m in \u001b[0;36m<module>\u001b[0;34m()\u001b[0m\n\u001b[0;32m----> 1\u001b[0;31m \u001b[0mx\u001b[0m \u001b[0;34m-\u001b[0m \u001b[0my\u001b[0m\u001b[0;34m\u001b[0m\u001b[0;34m\u001b[0m\u001b[0m\n\u001b[0m",
            "\u001b[0;31mTypeError\u001b[0m: unsupported operand type(s) for -: 'str' and 'str'"
          ]
        }
      ]
    },
    {
      "cell_type": "markdown",
      "source": [
        "####Multiplication (*)\n",
        "<p>Used to multiply two operands or more"
      ],
      "metadata": {
        "id": "pxoYYWkMksSd"
      }
    },
    {
      "cell_type": "code",
      "source": [
        "a = 25\n",
        "b = 21\n",
        "c = 29.5"
      ],
      "metadata": {
        "id": "ENeLvuq1kqZf"
      },
      "execution_count": null,
      "outputs": []
    },
    {
      "cell_type": "code",
      "source": [
        "a*b"
      ],
      "metadata": {
        "colab": {
          "base_uri": "https://localhost:8080/"
        },
        "id": "HDQPbkNbk-OZ",
        "outputId": "d4347153-ea3a-4f60-9ae1-eb85760e2ff9"
      },
      "execution_count": null,
      "outputs": [
        {
          "output_type": "execute_result",
          "data": {
            "text/plain": [
              "525"
            ]
          },
          "metadata": {},
          "execution_count": 21
        }
      ]
    },
    {
      "cell_type": "code",
      "source": [
        "a*b*c"
      ],
      "metadata": {
        "colab": {
          "base_uri": "https://localhost:8080/"
        },
        "id": "BN1u_Swnk_Pz",
        "outputId": "bfa09f05-ee68-4ad2-b4c4-eea676b8301d"
      },
      "execution_count": null,
      "outputs": [
        {
          "output_type": "execute_result",
          "data": {
            "text/plain": [
              "15487.5"
            ]
          },
          "metadata": {},
          "execution_count": 22
        }
      ]
    },
    {
      "cell_type": "markdown",
      "source": [
        "This operator not only used for numeric data types, but can also be used for string data types to print as many string as multiplier number"
      ],
      "metadata": {
        "id": "iJbhtGVWlIHi"
      }
    },
    {
      "cell_type": "code",
      "source": [
        "x = \"Me\""
      ],
      "metadata": {
        "id": "RI5XfUyqldWD"
      },
      "execution_count": null,
      "outputs": []
    },
    {
      "cell_type": "code",
      "source": [
        "x*3"
      ],
      "metadata": {
        "colab": {
          "base_uri": "https://localhost:8080/",
          "height": 35
        },
        "id": "TauxK3gZleWo",
        "outputId": "7fc72860-45aa-42b6-fddb-8b4a8d8982f2"
      },
      "execution_count": null,
      "outputs": [
        {
          "output_type": "execute_result",
          "data": {
            "text/plain": [
              "'MeMeMe'"
            ],
            "application/vnd.google.colaboratory.intrinsic+json": {
              "type": "string"
            }
          },
          "metadata": {},
          "execution_count": 42
        }
      ]
    },
    {
      "cell_type": "markdown",
      "source": [
        "####Division (/)\n",
        "<p>Used to divide left operand by the right one. The result of the operation will always be float type"
      ],
      "metadata": {
        "id": "Bf4YeB6uloWZ"
      }
    },
    {
      "cell_type": "code",
      "source": [
        "m = 144\n",
        "n = 36"
      ],
      "metadata": {
        "id": "scjjy_OBmUrn"
      },
      "execution_count": null,
      "outputs": []
    },
    {
      "cell_type": "code",
      "source": [
        "m/n"
      ],
      "metadata": {
        "colab": {
          "base_uri": "https://localhost:8080/"
        },
        "id": "v8tBJVSfmWIJ",
        "outputId": "da107ed8-4862-4af1-bb53-1e70f64786dc"
      },
      "execution_count": null,
      "outputs": [
        {
          "output_type": "execute_result",
          "data": {
            "text/plain": [
              "4.0"
            ]
          },
          "metadata": {},
          "execution_count": 40
        }
      ]
    },
    {
      "cell_type": "code",
      "source": [
        "type(m/n)"
      ],
      "metadata": {
        "colab": {
          "base_uri": "https://localhost:8080/"
        },
        "id": "CGH2ijMcoRdS",
        "outputId": "8872c51e-1dfa-4675-b7f5-c8e3d470615e"
      },
      "execution_count": null,
      "outputs": [
        {
          "output_type": "execute_result",
          "data": {
            "text/plain": [
              "float"
            ]
          },
          "metadata": {},
          "execution_count": 55
        }
      ]
    },
    {
      "cell_type": "markdown",
      "source": [
        "Unlike the multiplication operator, this operator cannot be used to string data types"
      ],
      "metadata": {
        "id": "Of53rjyvmqES"
      }
    },
    {
      "cell_type": "code",
      "source": [
        "x = \"Always\"\n",
        "y = \"Al\""
      ],
      "metadata": {
        "id": "NX-OYdd1myPk"
      },
      "execution_count": null,
      "outputs": []
    },
    {
      "cell_type": "code",
      "source": [
        "x/y"
      ],
      "metadata": {
        "colab": {
          "base_uri": "https://localhost:8080/",
          "height": 171
        },
        "id": "PMl-lkm_m_mj",
        "outputId": "b03d9102-b1ec-4a13-8c15-8bf8f077068d"
      },
      "execution_count": null,
      "outputs": [
        {
          "output_type": "error",
          "ename": "TypeError",
          "evalue": "ignored",
          "traceback": [
            "\u001b[0;31m---------------------------------------------------------------------------\u001b[0m",
            "\u001b[0;31mTypeError\u001b[0m                                 Traceback (most recent call last)",
            "\u001b[0;32m<ipython-input-44-a2dd4ac70d63>\u001b[0m in \u001b[0;36m<module>\u001b[0;34m()\u001b[0m\n\u001b[0;32m----> 1\u001b[0;31m \u001b[0mx\u001b[0m\u001b[0;34m/\u001b[0m\u001b[0my\u001b[0m\u001b[0;34m\u001b[0m\u001b[0;34m\u001b[0m\u001b[0m\n\u001b[0m",
            "\u001b[0;31mTypeError\u001b[0m: unsupported operand type(s) for /: 'str' and 'str'"
          ]
        }
      ]
    },
    {
      "cell_type": "markdown",
      "source": [
        "####Exponentiation (**)\n",
        "<p>Left operand raised to power of right operand"
      ],
      "metadata": {
        "id": "cICCfn-8A9OH"
      }
    },
    {
      "cell_type": "code",
      "source": [
        "m = 4"
      ],
      "metadata": {
        "id": "MDRjwPuAB2oe"
      },
      "execution_count": null,
      "outputs": []
    },
    {
      "cell_type": "code",
      "source": [
        "m**2"
      ],
      "metadata": {
        "colab": {
          "base_uri": "https://localhost:8080/"
        },
        "id": "iAV57bZoB312",
        "outputId": "2496b726-d495-4fb6-9879-58a434f948f3"
      },
      "execution_count": null,
      "outputs": [
        {
          "output_type": "execute_result",
          "data": {
            "text/plain": [
              "16"
            ]
          },
          "metadata": {},
          "execution_count": 131
        }
      ]
    },
    {
      "cell_type": "markdown",
      "source": [
        "Unlike the multiplication operator, this operator cannot be used to string data types"
      ],
      "metadata": {
        "id": "lQM-FUvwCm9Y"
      }
    },
    {
      "cell_type": "code",
      "source": [
        "n = \"day\""
      ],
      "metadata": {
        "id": "Fsf7KqmWChPi"
      },
      "execution_count": null,
      "outputs": []
    },
    {
      "cell_type": "code",
      "source": [
        "n**5"
      ],
      "metadata": {
        "colab": {
          "base_uri": "https://localhost:8080/",
          "height": 171
        },
        "id": "b_dyXy3BCi7e",
        "outputId": "9dd134c2-b12a-4266-e6c3-2241a43cd603"
      },
      "execution_count": null,
      "outputs": [
        {
          "output_type": "error",
          "ename": "TypeError",
          "evalue": "ignored",
          "traceback": [
            "\u001b[0;31m---------------------------------------------------------------------------\u001b[0m",
            "\u001b[0;31mTypeError\u001b[0m                                 Traceback (most recent call last)",
            "\u001b[0;32m<ipython-input-137-13b28426d689>\u001b[0m in \u001b[0;36m<module>\u001b[0;34m()\u001b[0m\n\u001b[0;32m----> 1\u001b[0;31m \u001b[0mn\u001b[0m\u001b[0;34m**\u001b[0m\u001b[0;36m5\u001b[0m\u001b[0;34m\u001b[0m\u001b[0;34m\u001b[0m\u001b[0m\n\u001b[0m",
            "\u001b[0;31mTypeError\u001b[0m: unsupported operand type(s) for ** or pow(): 'str' and 'int'"
          ]
        }
      ]
    },
    {
      "cell_type": "markdown",
      "source": [
        "Tips:\n",
        "<p> to find the root value, use decimal powers </p>\n"
      ],
      "metadata": {
        "id": "d_twFehpD-_K"
      }
    },
    {
      "cell_type": "code",
      "source": [
        "25**0.5\n",
        "#find the square root of the number 25"
      ],
      "metadata": {
        "colab": {
          "base_uri": "https://localhost:8080/"
        },
        "id": "sfXyzIO7EmJB",
        "outputId": "2699a5c9-6c08-425c-f2e9-4ad0d860ebf6"
      },
      "execution_count": null,
      "outputs": [
        {
          "output_type": "execute_result",
          "data": {
            "text/plain": [
              "5.0"
            ]
          },
          "metadata": {},
          "execution_count": 151
        }
      ]
    },
    {
      "cell_type": "markdown",
      "source": [
        "####Floor Division (//)\n",
        "<p> Return the result of a division whose result is an integer adjusted to the left on the number line"
      ],
      "metadata": {
        "id": "f3ow35t5tw3X"
      }
    },
    {
      "cell_type": "code",
      "source": [
        "a = 22\n",
        "b = 6"
      ],
      "metadata": {
        "id": "HWeUhUBAtv2q"
      },
      "execution_count": null,
      "outputs": []
    },
    {
      "cell_type": "code",
      "source": [
        "a // b"
      ],
      "metadata": {
        "colab": {
          "base_uri": "https://localhost:8080/"
        },
        "id": "gUc5EmRBuhYL",
        "outputId": "11a1eb39-a458-4f99-daa7-7920b73a9cad"
      },
      "execution_count": null,
      "outputs": [
        {
          "output_type": "execute_result",
          "data": {
            "text/plain": [
              "3"
            ]
          },
          "metadata": {},
          "execution_count": 57
        }
      ]
    },
    {
      "cell_type": "markdown",
      "source": [
        "This operator will return a result with a float if one of its operands is  float type"
      ],
      "metadata": {
        "id": "1gzpIp_WvCLJ"
      }
    },
    {
      "cell_type": "code",
      "source": [
        "c = 31.5\n",
        "d = 7"
      ],
      "metadata": {
        "id": "SiwQuSQruio0"
      },
      "execution_count": null,
      "outputs": []
    },
    {
      "cell_type": "code",
      "source": [
        "c // d"
      ],
      "metadata": {
        "colab": {
          "base_uri": "https://localhost:8080/"
        },
        "id": "3QbTpJWgulCt",
        "outputId": "929458f0-28ad-42b6-8978-145fbd0b7ba3"
      },
      "execution_count": null,
      "outputs": [
        {
          "output_type": "execute_result",
          "data": {
            "text/plain": [
              "4.0"
            ]
          },
          "metadata": {},
          "execution_count": 59
        }
      ]
    },
    {
      "cell_type": "markdown",
      "source": [
        "When the result of floor division (//) is positive, it is as though the fractional portion is truncated off, leaving only the integer portion. When the result is negative, the result is rounded down to the next smallest (greater negative) integer"
      ],
      "metadata": {
        "id": "_CfBx-oBvU0O"
      }
    },
    {
      "cell_type": "code",
      "source": [
        "e = 25\n",
        "f = -4"
      ],
      "metadata": {
        "id": "_qfhSDnOvV5x"
      },
      "execution_count": null,
      "outputs": []
    },
    {
      "cell_type": "code",
      "source": [
        "e // f"
      ],
      "metadata": {
        "colab": {
          "base_uri": "https://localhost:8080/"
        },
        "id": "O5qYXH2ovZNR",
        "outputId": "a1a02460-8e2b-4093-bce8-6fbdef7e4671"
      },
      "execution_count": null,
      "outputs": [
        {
          "output_type": "execute_result",
          "data": {
            "text/plain": [
              "-7"
            ]
          },
          "metadata": {},
          "execution_count": 62
        }
      ]
    },
    {
      "cell_type": "markdown",
      "source": [
        "####Modulo (%)\n",
        "<p>Used to return the remainder of the division of left operand by the right"
      ],
      "metadata": {
        "id": "oePreC9wnF_q"
      }
    },
    {
      "cell_type": "code",
      "source": [
        "a = 22\n",
        "b = 6"
      ],
      "metadata": {
        "id": "BWNR-9s3nUaL"
      },
      "execution_count": null,
      "outputs": []
    },
    {
      "cell_type": "code",
      "source": [
        "a%b"
      ],
      "metadata": {
        "colab": {
          "base_uri": "https://localhost:8080/"
        },
        "id": "MlQ-ZAXfnb3U",
        "outputId": "24b722fc-79b3-4886-a209-aa779a36a2ac"
      },
      "execution_count": null,
      "outputs": [
        {
          "output_type": "execute_result",
          "data": {
            "text/plain": [
              "4"
            ]
          },
          "metadata": {},
          "execution_count": 54
        }
      ]
    },
    {
      "cell_type": "code",
      "source": [
        "c = 31.5\n",
        "d = 7"
      ],
      "metadata": {
        "id": "w09KVdSfnpXw"
      },
      "execution_count": null,
      "outputs": []
    },
    {
      "cell_type": "code",
      "source": [
        "c%d"
      ],
      "metadata": {
        "colab": {
          "base_uri": "https://localhost:8080/"
        },
        "id": "MCohvIKLnvrS",
        "outputId": "ff6b107a-1bc2-443e-cada-56664425844b"
      },
      "execution_count": null,
      "outputs": [
        {
          "output_type": "execute_result",
          "data": {
            "text/plain": [
              "3.5"
            ]
          },
          "metadata": {},
          "execution_count": 52
        }
      ]
    },
    {
      "cell_type": "markdown",
      "source": [
        "###Comparison Operators\n",
        "<p>Comparison operators are used to compare values. It returns either True or False according to the condition"
      ],
      "metadata": {
        "id": "0UaArJPBvqeX"
      }
    },
    {
      "cell_type": "markdown",
      "source": [
        "####Greater than (>)\n",
        "<p>Performs a comparison whether the first operand is greater than the second operand and returns a boolean value True or False"
      ],
      "metadata": {
        "id": "y9y5QNnev58-"
      }
    },
    {
      "cell_type": "code",
      "source": [
        "a = 27\n",
        "b = 29"
      ],
      "metadata": {
        "id": "zEIxKupyvqAt"
      },
      "execution_count": null,
      "outputs": []
    },
    {
      "cell_type": "code",
      "source": [
        "b > a"
      ],
      "metadata": {
        "colab": {
          "base_uri": "https://localhost:8080/"
        },
        "id": "HCetr8c8wMI7",
        "outputId": "c2fdf21a-7d36-482b-e9b5-9dacee1d28b3"
      },
      "execution_count": null,
      "outputs": [
        {
          "output_type": "execute_result",
          "data": {
            "text/plain": [
              "True"
            ]
          },
          "metadata": {},
          "execution_count": 64
        }
      ]
    },
    {
      "cell_type": "code",
      "source": [
        "a > b"
      ],
      "metadata": {
        "colab": {
          "base_uri": "https://localhost:8080/"
        },
        "id": "VPXZZ38DxDDR",
        "outputId": "f2774903-0d0a-4fe5-af6c-c206ee6295e2"
      },
      "execution_count": null,
      "outputs": [
        {
          "output_type": "execute_result",
          "data": {
            "text/plain": [
              "False"
            ]
          },
          "metadata": {},
          "execution_count": 70
        }
      ]
    },
    {
      "cell_type": "markdown",
      "source": [
        "This operator can also be used for string type comparisons"
      ],
      "metadata": {
        "id": "F0Y5rVjQwQf8"
      }
    },
    {
      "cell_type": "code",
      "source": [
        "\"z\" > \"a\""
      ],
      "metadata": {
        "colab": {
          "base_uri": "https://localhost:8080/"
        },
        "id": "1Ds5Q-duwPjm",
        "outputId": "4bcb4900-2eea-4039-c8ed-6b9bf124df67"
      },
      "execution_count": null,
      "outputs": [
        {
          "output_type": "execute_result",
          "data": {
            "text/plain": [
              "True"
            ]
          },
          "metadata": {},
          "execution_count": 65
        }
      ]
    },
    {
      "cell_type": "code",
      "source": [
        "\"b\" > \"n\""
      ],
      "metadata": {
        "colab": {
          "base_uri": "https://localhost:8080/"
        },
        "id": "bYCMBuANwxo6",
        "outputId": "ae3cd300-7f3d-4199-e4aa-116ee67346b8"
      },
      "execution_count": null,
      "outputs": [
        {
          "output_type": "execute_result",
          "data": {
            "text/plain": [
              "False"
            ]
          },
          "metadata": {},
          "execution_count": 66
        }
      ]
    },
    {
      "cell_type": "markdown",
      "source": [
        "####Less than (<)\n",
        "<p>Performs a comparison whether the first operand is less than the second operand and returns a boolean value True or False"
      ],
      "metadata": {
        "id": "hDo3elB8w1a_"
      }
    },
    {
      "cell_type": "code",
      "source": [
        "x = 33\n",
        "y = 59"
      ],
      "metadata": {
        "id": "hij_naBBw7Ld"
      },
      "execution_count": null,
      "outputs": []
    },
    {
      "cell_type": "code",
      "source": [
        "x < y"
      ],
      "metadata": {
        "colab": {
          "base_uri": "https://localhost:8080/"
        },
        "id": "2Rz7PUJ7w_g5",
        "outputId": "fbf8c5b7-abf4-46fe-c7ba-917d8a69f987"
      },
      "execution_count": null,
      "outputs": [
        {
          "output_type": "execute_result",
          "data": {
            "text/plain": [
              "True"
            ]
          },
          "metadata": {},
          "execution_count": 68
        }
      ]
    },
    {
      "cell_type": "code",
      "source": [
        "y < x"
      ],
      "metadata": {
        "colab": {
          "base_uri": "https://localhost:8080/"
        },
        "id": "WpcwQglxxAZL",
        "outputId": "ceaf738b-43bd-4fa9-ee0b-a04aba5f06e6"
      },
      "execution_count": null,
      "outputs": [
        {
          "output_type": "execute_result",
          "data": {
            "text/plain": [
              "False"
            ]
          },
          "metadata": {},
          "execution_count": 69
        }
      ]
    },
    {
      "cell_type": "markdown",
      "source": [
        "This operator can also be used for string type comparisons"
      ],
      "metadata": {
        "id": "UyCw_iaNxHup"
      }
    },
    {
      "cell_type": "code",
      "source": [
        "\"m\" < \"o\""
      ],
      "metadata": {
        "colab": {
          "base_uri": "https://localhost:8080/"
        },
        "id": "gZxLUD1VxGW7",
        "outputId": "f3d29d6e-5c27-401c-bb71-9979584dc47d"
      },
      "execution_count": null,
      "outputs": [
        {
          "output_type": "execute_result",
          "data": {
            "text/plain": [
              "True"
            ]
          },
          "metadata": {},
          "execution_count": 71
        }
      ]
    },
    {
      "cell_type": "code",
      "source": [
        "\"m\" < \"k\""
      ],
      "metadata": {
        "colab": {
          "base_uri": "https://localhost:8080/"
        },
        "id": "q-N16496xSbp",
        "outputId": "abc20eb3-0135-46ca-8a96-0d1b012f6ef8"
      },
      "execution_count": null,
      "outputs": [
        {
          "output_type": "execute_result",
          "data": {
            "text/plain": [
              "False"
            ]
          },
          "metadata": {},
          "execution_count": 73
        }
      ]
    },
    {
      "cell_type": "markdown",
      "source": [
        "####Equal to (==)\n",
        "<p>Performs a comparison whether the first operand is equal to the second operand and returns a boolean value True or False"
      ],
      "metadata": {
        "id": "lQi75Tb0xWdk"
      }
    },
    {
      "cell_type": "code",
      "source": [
        "a = 20\n",
        "b = 20"
      ],
      "metadata": {
        "id": "gZIj78NWxh4e"
      },
      "execution_count": null,
      "outputs": []
    },
    {
      "cell_type": "code",
      "source": [
        "a == b"
      ],
      "metadata": {
        "colab": {
          "base_uri": "https://localhost:8080/"
        },
        "id": "YVFDJhLYxlWI",
        "outputId": "00d64643-b4f8-4b50-bf3a-97c3d21e46e7"
      },
      "execution_count": null,
      "outputs": [
        {
          "output_type": "execute_result",
          "data": {
            "text/plain": [
              "True"
            ]
          },
          "metadata": {},
          "execution_count": 75
        }
      ]
    },
    {
      "cell_type": "code",
      "source": [
        "x = 45\n",
        "y = 44.5"
      ],
      "metadata": {
        "id": "K_RMjGkwxo5Z"
      },
      "execution_count": null,
      "outputs": []
    },
    {
      "cell_type": "code",
      "source": [
        "x == y"
      ],
      "metadata": {
        "colab": {
          "base_uri": "https://localhost:8080/"
        },
        "id": "rMbBdB-ZxrqQ",
        "outputId": "b27723ac-eba3-41eb-b9cf-a9e7d25d7394"
      },
      "execution_count": null,
      "outputs": [
        {
          "output_type": "execute_result",
          "data": {
            "text/plain": [
              "False"
            ]
          },
          "metadata": {},
          "execution_count": 77
        }
      ]
    },
    {
      "cell_type": "markdown",
      "source": [
        "This operator can also be used for string type comparisons"
      ],
      "metadata": {
        "id": "tVBwD97mx1gq"
      }
    },
    {
      "cell_type": "code",
      "source": [
        "\"a\" == \"a\""
      ],
      "metadata": {
        "colab": {
          "base_uri": "https://localhost:8080/"
        },
        "id": "-9jl8-2qx0mR",
        "outputId": "10919bed-fa2e-4504-f120-155c4a3b2a9d"
      },
      "execution_count": null,
      "outputs": [
        {
          "output_type": "execute_result",
          "data": {
            "text/plain": [
              "True"
            ]
          },
          "metadata": {},
          "execution_count": 78
        }
      ]
    },
    {
      "cell_type": "code",
      "source": [
        "\"Python\" == \"PythoN\""
      ],
      "metadata": {
        "colab": {
          "base_uri": "https://localhost:8080/"
        },
        "id": "BzFwqs4Sx8CY",
        "outputId": "e4e07ac7-ac6d-4bf5-a5d2-46cc8fbb345d"
      },
      "execution_count": null,
      "outputs": [
        {
          "output_type": "execute_result",
          "data": {
            "text/plain": [
              "False"
            ]
          },
          "metadata": {},
          "execution_count": 80
        }
      ]
    },
    {
      "cell_type": "markdown",
      "source": [
        "####Not Equal to (!=)\n",
        "<p>Performs a comparison whether the first operand is not equal to the second operand and returns a boolean value True or False"
      ],
      "metadata": {
        "id": "8ijDDPNryJSf"
      }
    },
    {
      "cell_type": "code",
      "source": [
        "a = 2022\n",
        "b = 2021"
      ],
      "metadata": {
        "id": "Ry-8O1_JyUry"
      },
      "execution_count": null,
      "outputs": []
    },
    {
      "cell_type": "code",
      "source": [
        "a != b"
      ],
      "metadata": {
        "colab": {
          "base_uri": "https://localhost:8080/"
        },
        "id": "G7DtV-DqyW2Q",
        "outputId": "8e54e5b2-8769-4296-d3e4-6fc0a8510c3a"
      },
      "execution_count": null,
      "outputs": [
        {
          "output_type": "execute_result",
          "data": {
            "text/plain": [
              "True"
            ]
          },
          "metadata": {},
          "execution_count": 82
        }
      ]
    },
    {
      "cell_type": "markdown",
      "source": [
        "Like the other comparison operators, this operator can also be used for string type comparisons"
      ],
      "metadata": {
        "id": "j3onqVJ5ylzk"
      }
    },
    {
      "cell_type": "code",
      "source": [
        "\"No\" != \"NO\""
      ],
      "metadata": {
        "colab": {
          "base_uri": "https://localhost:8080/"
        },
        "id": "n1CuYPBXyYDo",
        "outputId": "4068cd46-ada0-4278-dd47-51e0727ad3ca"
      },
      "execution_count": null,
      "outputs": [
        {
          "output_type": "execute_result",
          "data": {
            "text/plain": [
              "True"
            ]
          },
          "metadata": {},
          "execution_count": 83
        }
      ]
    },
    {
      "cell_type": "markdown",
      "source": [
        "####Greate than or equal to (>=)\n",
        "<p>Performs a comparison whether the first operand is greater than or equal to the second operand and returns a boolean value True or False"
      ],
      "metadata": {
        "id": "P-bJB3y6y4Za"
      }
    },
    {
      "cell_type": "code",
      "source": [
        "x = 28\n",
        "y = 28"
      ],
      "metadata": {
        "id": "Y6056XFVyyle"
      },
      "execution_count": null,
      "outputs": []
    },
    {
      "cell_type": "code",
      "source": [
        "x >= y"
      ],
      "metadata": {
        "colab": {
          "base_uri": "https://localhost:8080/"
        },
        "id": "45lelfcfzMSK",
        "outputId": "40eb5bbb-503c-43d0-a0c5-cd36ac868554"
      },
      "execution_count": null,
      "outputs": [
        {
          "output_type": "execute_result",
          "data": {
            "text/plain": [
              "True"
            ]
          },
          "metadata": {},
          "execution_count": 85
        }
      ]
    },
    {
      "cell_type": "code",
      "source": [
        "89.5 >= 88"
      ],
      "metadata": {
        "colab": {
          "base_uri": "https://localhost:8080/"
        },
        "id": "Ii6Oa6REzNs7",
        "outputId": "b1e00468-1828-4e7b-d45b-8e6e9dc1d6d3"
      },
      "execution_count": null,
      "outputs": [
        {
          "output_type": "execute_result",
          "data": {
            "text/plain": [
              "True"
            ]
          },
          "metadata": {},
          "execution_count": 86
        }
      ]
    },
    {
      "cell_type": "markdown",
      "source": [
        "Like the other comparison operators, this operator can also be used for string type comparisons"
      ],
      "metadata": {
        "id": "4HwaGCMGzTdl"
      }
    },
    {
      "cell_type": "code",
      "source": [
        "\"Data\" >= \"Data\""
      ],
      "metadata": {
        "colab": {
          "base_uri": "https://localhost:8080/"
        },
        "id": "JIYaF5ZNzWIu",
        "outputId": "3bd66ab5-eb5e-4a28-e81a-d77a5323e906"
      },
      "execution_count": null,
      "outputs": [
        {
          "output_type": "execute_result",
          "data": {
            "text/plain": [
              "True"
            ]
          },
          "metadata": {},
          "execution_count": 87
        }
      ]
    },
    {
      "cell_type": "code",
      "source": [
        "\"PYTHON\" > \"python\""
      ],
      "metadata": {
        "colab": {
          "base_uri": "https://localhost:8080/"
        },
        "id": "ODZnbkZAzYjj",
        "outputId": "e560cb00-1f75-4feb-f599-499e751de890"
      },
      "execution_count": null,
      "outputs": [
        {
          "output_type": "execute_result",
          "data": {
            "text/plain": [
              "False"
            ]
          },
          "metadata": {},
          "execution_count": 90
        }
      ]
    },
    {
      "cell_type": "markdown",
      "source": [
        "####Less than or equal to\n",
        "<p>Performs a comparison whether the first operand is less than or equal to the second operand and returns a boolean value True or False"
      ],
      "metadata": {
        "id": "vecQLFTeziQq"
      }
    },
    {
      "cell_type": "code",
      "source": [
        "m = 45\n",
        "n = 42"
      ],
      "metadata": {
        "id": "HYkA5omDzp33"
      },
      "execution_count": null,
      "outputs": []
    },
    {
      "cell_type": "code",
      "source": [
        "m <= n"
      ],
      "metadata": {
        "colab": {
          "base_uri": "https://localhost:8080/"
        },
        "id": "IHahh36Jzshq",
        "outputId": "252e8f97-da02-4ebf-caad-f1a3087b1ee5"
      },
      "execution_count": null,
      "outputs": [
        {
          "output_type": "execute_result",
          "data": {
            "text/plain": [
              "False"
            ]
          },
          "metadata": {},
          "execution_count": 92
        }
      ]
    },
    {
      "cell_type": "code",
      "source": [
        "60 <= 60.1"
      ],
      "metadata": {
        "colab": {
          "base_uri": "https://localhost:8080/"
        },
        "id": "o0TOGA3Hztni",
        "outputId": "ce8733fe-fc8f-47f9-b25f-e3bd3092621e"
      },
      "execution_count": null,
      "outputs": [
        {
          "output_type": "execute_result",
          "data": {
            "text/plain": [
              "True"
            ]
          },
          "metadata": {},
          "execution_count": 93
        }
      ]
    },
    {
      "cell_type": "markdown",
      "source": [
        "Like the other comparison operators, this operator can also be used for string type comparisons"
      ],
      "metadata": {
        "id": "SpQH8m28z1-X"
      }
    },
    {
      "cell_type": "code",
      "source": [
        "\"sunday\" <= \"sunday\""
      ],
      "metadata": {
        "colab": {
          "base_uri": "https://localhost:8080/"
        },
        "id": "aa1qNZ3Fzzt1",
        "outputId": "fd036ab0-5a95-4381-d618-8b5d04edc622"
      },
      "execution_count": null,
      "outputs": [
        {
          "output_type": "execute_result",
          "data": {
            "text/plain": [
              "True"
            ]
          },
          "metadata": {},
          "execution_count": 95
        }
      ]
    },
    {
      "cell_type": "code",
      "source": [
        "\"sunday\" <= \"monday\""
      ],
      "metadata": {
        "colab": {
          "base_uri": "https://localhost:8080/"
        },
        "id": "9hiBD5sIz_ea",
        "outputId": "2a00036f-c640-410e-a574-e367049a132d"
      },
      "execution_count": null,
      "outputs": [
        {
          "output_type": "execute_result",
          "data": {
            "text/plain": [
              "False"
            ]
          },
          "metadata": {},
          "execution_count": 96
        }
      ]
    },
    {
      "cell_type": "markdown",
      "source": [
        "**Note** :\n",
        "\n",
        "<p>Some points to remember when using string comparison operators\n",
        "\n",
        "<ul><li>The comparisons are case-sensitive, hence same letters in different letter cases(upper/lower) will be treated as separate characters</li>\n",
        "<li>If two characters are different, then their Unicode value is compared (the character with the smaller Unicode value is considered to be lower)</li>"
      ],
      "metadata": {
        "id": "_j2tEcp300Jo"
      }
    },
    {
      "cell_type": "markdown",
      "source": [
        "###Logical Operators\n",
        "<p>In Python, Logical operators are used on conditional statements (either True or False). They perform Logical AND, Logical OR and Logical NOT operations"
      ],
      "metadata": {
        "id": "BGU1bJlS1lAw"
      }
    },
    {
      "cell_type": "markdown",
      "source": [
        "####Logical AND Operator\n",
        "<p>Return True, only if both operands are true and return False if one or both operands are false </p>"
      ],
      "metadata": {
        "id": "hzLFeWA62wYP"
      }
    },
    {
      "cell_type": "code",
      "source": [
        "a = True\n",
        "b = True\n",
        "a and b"
      ],
      "metadata": {
        "colab": {
          "base_uri": "https://localhost:8080/"
        },
        "id": "MTlFoKVH332I",
        "outputId": "a5aec323-3f7e-4e00-a167-ef253532772b"
      },
      "execution_count": null,
      "outputs": [
        {
          "output_type": "execute_result",
          "data": {
            "text/plain": [
              "True"
            ]
          },
          "metadata": {},
          "execution_count": 3
        }
      ]
    },
    {
      "cell_type": "code",
      "source": [
        "x = True\n",
        "y = False\n",
        "x and y "
      ],
      "metadata": {
        "colab": {
          "base_uri": "https://localhost:8080/"
        },
        "id": "I1Nuno1Z2JVO",
        "outputId": "5f4c0edb-658e-4d75-a2b6-66b84a46e550"
      },
      "execution_count": null,
      "outputs": [
        {
          "output_type": "execute_result",
          "data": {
            "text/plain": [
              "False"
            ]
          },
          "metadata": {},
          "execution_count": 4
        }
      ]
    },
    {
      "cell_type": "code",
      "source": [
        "p = False\n",
        "q = False\n",
        "p and q"
      ],
      "metadata": {
        "colab": {
          "base_uri": "https://localhost:8080/"
        },
        "id": "R8SU1Mwq38k9",
        "outputId": "dbc7b0d4-27a5-43ac-eb12-1594e5330e1c"
      },
      "execution_count": null,
      "outputs": [
        {
          "output_type": "execute_result",
          "data": {
            "text/plain": [
              "False"
            ]
          },
          "metadata": {},
          "execution_count": 5
        }
      ]
    },
    {
      "cell_type": "markdown",
      "source": [
        "####Logical OR Operator\n",
        "<p>Return True, if one or both of the operands are true and return False only if both operands are false</p>"
      ],
      "metadata": {
        "id": "29180i4h4BL3"
      }
    },
    {
      "cell_type": "code",
      "source": [
        "a = True\n",
        "b = True\n",
        "a or b"
      ],
      "metadata": {
        "colab": {
          "base_uri": "https://localhost:8080/"
        },
        "id": "LxiSAf234YLg",
        "outputId": "5b37871d-a9d1-4559-fde4-31fe41efe053"
      },
      "execution_count": null,
      "outputs": [
        {
          "output_type": "execute_result",
          "data": {
            "text/plain": [
              "True"
            ]
          },
          "metadata": {},
          "execution_count": 6
        }
      ]
    },
    {
      "cell_type": "code",
      "source": [
        "x = True\n",
        "y = False\n",
        "x or y "
      ],
      "metadata": {
        "colab": {
          "base_uri": "https://localhost:8080/"
        },
        "id": "Z_LBA4F44dyE",
        "outputId": "abd68a19-79d5-4e34-d6d5-b36258ae68cd"
      },
      "execution_count": null,
      "outputs": [
        {
          "output_type": "execute_result",
          "data": {
            "text/plain": [
              "True"
            ]
          },
          "metadata": {},
          "execution_count": 7
        }
      ]
    },
    {
      "cell_type": "code",
      "source": [
        "p = False\n",
        "q = False\n",
        "p or q"
      ],
      "metadata": {
        "colab": {
          "base_uri": "https://localhost:8080/"
        },
        "id": "beR5CpBc4h69",
        "outputId": "83b7c574-849d-4679-f888-f650528d6c8c"
      },
      "execution_count": null,
      "outputs": [
        {
          "output_type": "execute_result",
          "data": {
            "text/plain": [
              "False"
            ]
          },
          "metadata": {},
          "execution_count": 8
        }
      ]
    },
    {
      "cell_type": "markdown",
      "source": [
        "####Logical NOT\n",
        "<p>Return True if operand is false (complements the operand)"
      ],
      "metadata": {
        "id": "Uh_1PLZ14myE"
      }
    },
    {
      "cell_type": "code",
      "source": [
        "a = True\n",
        "not a"
      ],
      "metadata": {
        "colab": {
          "base_uri": "https://localhost:8080/"
        },
        "id": "r53pEcCG5LjL",
        "outputId": "c041e98e-9ea7-4638-acf3-34985556745c"
      },
      "execution_count": null,
      "outputs": [
        {
          "output_type": "execute_result",
          "data": {
            "text/plain": [
              "False"
            ]
          },
          "metadata": {},
          "execution_count": 9
        }
      ]
    },
    {
      "cell_type": "code",
      "source": [
        "b = False\n",
        "not b"
      ],
      "metadata": {
        "colab": {
          "base_uri": "https://localhost:8080/"
        },
        "id": "lgFHb1Uc5YDM",
        "outputId": "f066f0b2-9650-4b3f-bb01-fb26755fd048"
      },
      "execution_count": null,
      "outputs": [
        {
          "output_type": "execute_result",
          "data": {
            "text/plain": [
              "True"
            ]
          },
          "metadata": {},
          "execution_count": 10
        }
      ]
    },
    {
      "cell_type": "markdown",
      "source": [
        "###Assignment Operators\n",
        "<p>Assignment operators are used in Python to assign values to variables"
      ],
      "metadata": {
        "id": "Oihh8-Bz5bRh"
      }
    },
    {
      "cell_type": "markdown",
      "source": [
        "####="
      ],
      "metadata": {
        "id": "i3fHXc5n-uRe"
      }
    },
    {
      "cell_type": "code",
      "source": [
        "x = 5\n",
        "#assign the value 5 to the variable x\n",
        "print(x)"
      ],
      "metadata": {
        "id": "-eBZXDPe-qww",
        "colab": {
          "base_uri": "https://localhost:8080/"
        },
        "outputId": "203010e5-94d5-425a-9796-c7c3692ca4d2"
      },
      "execution_count": null,
      "outputs": [
        {
          "output_type": "stream",
          "name": "stdout",
          "text": [
            "5\n"
          ]
        }
      ]
    },
    {
      "cell_type": "code",
      "source": [
        "y = \"Python\"\n",
        "#assign the value \"Python\" to the variabel y\n",
        "print(y)"
      ],
      "metadata": {
        "id": "70YrNFzg_Niz",
        "colab": {
          "base_uri": "https://localhost:8080/"
        },
        "outputId": "8e4a2b73-f95b-495a-eece-0b979063e5bd"
      },
      "execution_count": null,
      "outputs": [
        {
          "output_type": "stream",
          "name": "stdout",
          "text": [
            "Python\n"
          ]
        }
      ]
    },
    {
      "cell_type": "markdown",
      "source": [
        "#### +="
      ],
      "metadata": {
        "id": "C_6lXpvC_GV1"
      }
    },
    {
      "cell_type": "code",
      "source": [
        "x = 5 \n"
      ],
      "metadata": {
        "id": "ZVLioe76_V7a"
      },
      "execution_count": null,
      "outputs": []
    },
    {
      "cell_type": "code",
      "source": [
        "x += 10\n",
        "# equivalent to x = x + 10\n",
        "print (x)"
      ],
      "metadata": {
        "colab": {
          "base_uri": "https://localhost:8080/"
        },
        "id": "yIEcW2Vd_zO2",
        "outputId": "5ce2a76b-e44c-4a00-d9b1-0762449483ef"
      },
      "execution_count": null,
      "outputs": [
        {
          "output_type": "stream",
          "name": "stdout",
          "text": [
            "15\n"
          ]
        }
      ]
    },
    {
      "cell_type": "markdown",
      "source": [
        "####-="
      ],
      "metadata": {
        "id": "U7HiSko8ABPw"
      }
    },
    {
      "cell_type": "code",
      "source": [
        "y = 20"
      ],
      "metadata": {
        "id": "bk0qN9oa__zm"
      },
      "execution_count": null,
      "outputs": []
    },
    {
      "cell_type": "code",
      "source": [
        "y -= 50\n",
        "#equivalent to y = y - 50\n",
        "print (y)"
      ],
      "metadata": {
        "colab": {
          "base_uri": "https://localhost:8080/"
        },
        "id": "7mpVl__kAHIV",
        "outputId": "2bd0e7e5-ae6b-4849-a6ec-9a293ac3ea0a"
      },
      "execution_count": null,
      "outputs": [
        {
          "output_type": "stream",
          "name": "stdout",
          "text": [
            "-30\n"
          ]
        }
      ]
    },
    {
      "cell_type": "markdown",
      "source": [
        "####*="
      ],
      "metadata": {
        "id": "1fRDQ-xNAT4Q"
      }
    },
    {
      "cell_type": "code",
      "source": [
        "a = 20"
      ],
      "metadata": {
        "id": "7rkxFJ6AATb7"
      },
      "execution_count": null,
      "outputs": []
    },
    {
      "cell_type": "code",
      "source": [
        "a *= 2\n",
        "#equivalent to a = a*20\n",
        "print (a)"
      ],
      "metadata": {
        "colab": {
          "base_uri": "https://localhost:8080/"
        },
        "id": "QxHfhgFnAb3f",
        "outputId": "c08028aa-e183-4524-9d0c-a15783139e81"
      },
      "execution_count": null,
      "outputs": [
        {
          "output_type": "stream",
          "name": "stdout",
          "text": [
            "40\n"
          ]
        }
      ]
    },
    {
      "cell_type": "markdown",
      "source": [
        "####/="
      ],
      "metadata": {
        "id": "QxNcR1NSAnUw"
      }
    },
    {
      "cell_type": "code",
      "source": [
        "b = 10"
      ],
      "metadata": {
        "id": "dTPQ_jamAjrb"
      },
      "execution_count": null,
      "outputs": []
    },
    {
      "cell_type": "code",
      "source": [
        "b /= 5\n",
        "#equivalent to b = b/5\n",
        "print (b)"
      ],
      "metadata": {
        "colab": {
          "base_uri": "https://localhost:8080/"
        },
        "id": "AE3pSF7BArr6",
        "outputId": "24d49767-bbb5-4496-b561-610f62650698"
      },
      "execution_count": null,
      "outputs": [
        {
          "output_type": "stream",
          "name": "stdout",
          "text": [
            "2.0\n"
          ]
        }
      ]
    },
    {
      "cell_type": "markdown",
      "source": [
        "####**="
      ],
      "metadata": {
        "id": "w5YAMWCeDgWZ"
      }
    },
    {
      "cell_type": "code",
      "source": [
        "c = 3"
      ],
      "metadata": {
        "id": "7XbEuRg1DmIc"
      },
      "execution_count": null,
      "outputs": []
    },
    {
      "cell_type": "code",
      "source": [
        "c **= 4\n",
        "#equivalent to c = c**3\n",
        "print (c)"
      ],
      "metadata": {
        "colab": {
          "base_uri": "https://localhost:8080/"
        },
        "id": "8PvjPbrDDyF1",
        "outputId": "55431026-a32f-41cd-fb33-3a95b59b4dc4"
      },
      "execution_count": null,
      "outputs": [
        {
          "output_type": "stream",
          "name": "stdout",
          "text": [
            "81\n"
          ]
        }
      ]
    },
    {
      "cell_type": "markdown",
      "source": [
        "####//="
      ],
      "metadata": {
        "id": "6-z6ygvbC_cM"
      }
    },
    {
      "cell_type": "code",
      "source": [
        "d = 34"
      ],
      "metadata": {
        "id": "aSWsj4yICsmg"
      },
      "execution_count": null,
      "outputs": []
    },
    {
      "cell_type": "code",
      "source": [
        "d //= 3\n",
        "#equivalent to d = d//3\n",
        "print (d)"
      ],
      "metadata": {
        "colab": {
          "base_uri": "https://localhost:8080/"
        },
        "id": "xmUppbhZC2wC",
        "outputId": "4fdf216f-d0a8-488a-a8f6-f1c9f8b0da33"
      },
      "execution_count": null,
      "outputs": [
        {
          "output_type": "stream",
          "name": "stdout",
          "text": [
            "11\n"
          ]
        }
      ]
    },
    {
      "cell_type": "markdown",
      "source": [
        "####%="
      ],
      "metadata": {
        "id": "1R0ezg0-CuZe"
      }
    },
    {
      "cell_type": "code",
      "source": [
        "e = 21"
      ],
      "metadata": {
        "id": "ahII3kH0DOf7"
      },
      "execution_count": null,
      "outputs": []
    },
    {
      "cell_type": "code",
      "source": [
        "e %= 10\n",
        "#equivalent to e = e%10\n",
        "print (e)"
      ],
      "metadata": {
        "colab": {
          "base_uri": "https://localhost:8080/"
        },
        "id": "0v-0MY0PDRm1",
        "outputId": "a2601701-7c76-456b-db02-ab5319ac12c6"
      },
      "execution_count": null,
      "outputs": [
        {
          "output_type": "stream",
          "name": "stdout",
          "text": [
            "1\n"
          ]
        }
      ]
    }
  ]
}