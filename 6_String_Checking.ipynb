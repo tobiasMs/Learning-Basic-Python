{
  "nbformat": 4,
  "nbformat_minor": 0,
  "metadata": {
    "colab": {
      "name": "6. String Checking.ipynb",
      "provenance": []
    },
    "kernelspec": {
      "name": "python3",
      "display_name": "Python 3"
    },
    "language_info": {
      "name": "python"
    }
  },
  "cells": [
    {
      "cell_type": "markdown",
      "source": [
        "###String Checking\n",
        "You can check your type of string using this function:"
      ],
      "metadata": {
        "id": "-3V6THRZ6NZH"
      }
    },
    {
      "cell_type": "markdown",
      "source": [
        "\n",
        "\n",
        "*   .isupper() function\n",
        "\n",
        "> if you want to check your string is on capital letter, use isupper function. this function will give you boolean results (TRUE or FALSE)\n",
        "\n",
        "\n",
        "\n",
        "```\n",
        ".isupper()\n",
        "```\n"
      ],
      "metadata": {
        "id": "GhNndoUbJ9UU"
      }
    },
    {
      "cell_type": "code",
      "source": [
        "a = \"MATPLOTLIB\""
      ],
      "metadata": {
        "id": "vmTFyUWJ6TRm"
      },
      "execution_count": 1,
      "outputs": []
    },
    {
      "cell_type": "code",
      "source": [
        "a.isupper()"
      ],
      "metadata": {
        "colab": {
          "base_uri": "https://localhost:8080/"
        },
        "id": "GwFUnaNNKx9n",
        "outputId": "55043c97-f273-4502-b719-e98a53742f76"
      },
      "execution_count": 2,
      "outputs": [
        {
          "output_type": "execute_result",
          "data": {
            "text/plain": [
              "True"
            ]
          },
          "metadata": {},
          "execution_count": 2
        }
      ]
    },
    {
      "cell_type": "markdown",
      "source": [
        "\n",
        "*   .islower() function\n",
        "\n",
        "> if you want to check your string is on small letter, use islower function. this function also give you boolean results (TRUE or FALSE)\n",
        "\n",
        "\n",
        "\n",
        "```\n",
        ".islower()\n",
        "```\n"
      ],
      "metadata": {
        "id": "kmhSdH5PLfa1"
      }
    },
    {
      "cell_type": "code",
      "source": [
        "b = \"matplotlib\""
      ],
      "metadata": {
        "id": "rQukt1fdLel9"
      },
      "execution_count": 3,
      "outputs": []
    },
    {
      "cell_type": "code",
      "source": [
        "b.islower()"
      ],
      "metadata": {
        "colab": {
          "base_uri": "https://localhost:8080/"
        },
        "id": "KMEcYXsFMAxf",
        "outputId": "31ff97cb-33e1-4658-a492-d8c624ae2841"
      },
      "execution_count": 4,
      "outputs": [
        {
          "output_type": "execute_result",
          "data": {
            "text/plain": [
              "True"
            ]
          },
          "metadata": {},
          "execution_count": 4
        }
      ]
    },
    {
      "cell_type": "markdown",
      "source": [
        "\n",
        "\n",
        "> isupper and islower function also can checking string although the string type was replaced upper and lower"
      ],
      "metadata": {
        "id": "Te42yw0gNPtf"
      }
    },
    {
      "cell_type": "code",
      "source": [
        "print(\"matplotlib\".upper().lower().islower())"
      ],
      "metadata": {
        "colab": {
          "base_uri": "https://localhost:8080/"
        },
        "id": "gtJP6xacMJte",
        "outputId": "13ae63e8-8a3a-4054-d18a-4213238da584"
      },
      "execution_count": 6,
      "outputs": [
        {
          "output_type": "stream",
          "name": "stdout",
          "text": [
            "True\n"
          ]
        }
      ]
    },
    {
      "cell_type": "code",
      "source": [
        "print(\"MATPLOTLIB\".lower().upper().lower().isupper())"
      ],
      "metadata": {
        "colab": {
          "base_uri": "https://localhost:8080/"
        },
        "id": "1tyO0nZqObRu",
        "outputId": "28393e05-5e7d-43a3-f269-368ba4663e45"
      },
      "execution_count": 7,
      "outputs": [
        {
          "output_type": "stream",
          "name": "stdout",
          "text": [
            "False\n"
          ]
        }
      ]
    },
    {
      "cell_type": "markdown",
      "source": [
        "\n",
        "*   .isalpha() function\n",
        "\n",
        "> if you want to check your string are using alphabet or not, use isalpha function. this function also give you boolean results (TRUE or FALSE). if your string has some numbers, it will turn FALSE.\n",
        "\n",
        "\n",
        "\n",
        "```\n",
        ".isalpha()\n",
        "```\n"
      ],
      "metadata": {
        "id": "f5TzslnaOvpd"
      }
    },
    {
      "cell_type": "code",
      "source": [
        "print(\"matplotlib\".isalpha())"
      ],
      "metadata": {
        "colab": {
          "base_uri": "https://localhost:8080/"
        },
        "id": "07I_4iF_Os8H",
        "outputId": "2c7a46fd-cd3f-408b-a37e-29c5ada3e077"
      },
      "execution_count": 8,
      "outputs": [
        {
          "output_type": "stream",
          "name": "stdout",
          "text": [
            "True\n"
          ]
        }
      ]
    },
    {
      "cell_type": "code",
      "source": [
        "print(\"matplotlib2\".isalpha())"
      ],
      "metadata": {
        "colab": {
          "base_uri": "https://localhost:8080/"
        },
        "id": "zFUacesYP0Yv",
        "outputId": "5a5cef11-129c-49a8-ac0c-1eb3706fd979"
      },
      "execution_count": 9,
      "outputs": [
        {
          "output_type": "stream",
          "name": "stdout",
          "text": [
            "False\n"
          ]
        }
      ]
    },
    {
      "cell_type": "markdown",
      "source": [
        "*   .isalnum() function\n",
        "\n",
        "> if you want to check your string are using alphanumeric or not, use isalnum function. this function also give you boolean results (TRUE or FALSE). if your string has just alphabet or numeric in one sentence, it will turn FALSE.\n",
        "\n",
        "\n",
        "\n",
        "```\n",
        ".isalnum()\n",
        "```\n"
      ],
      "metadata": {
        "id": "jAe2CZ3HRRAC"
      }
    },
    {
      "cell_type": "code",
      "source": [
        "print(\"matplotlib2022\".isalnum())"
      ],
      "metadata": {
        "colab": {
          "base_uri": "https://localhost:8080/"
        },
        "id": "46pv2hppP6sf",
        "outputId": "e18eea48-1bd0-4e19-ee6b-537521a69fb7"
      },
      "execution_count": 15,
      "outputs": [
        {
          "output_type": "stream",
          "name": "stdout",
          "text": [
            "True\n"
          ]
        }
      ]
    },
    {
      "cell_type": "code",
      "source": [
        "print(\"matplotlib 2022\".isalnum())"
      ],
      "metadata": {
        "colab": {
          "base_uri": "https://localhost:8080/"
        },
        "id": "FgUDXn4PS-hR",
        "outputId": "79ad1728-0c2f-485a-db42-635fa3dcd74c"
      },
      "execution_count": 16,
      "outputs": [
        {
          "output_type": "stream",
          "name": "stdout",
          "text": [
            "False\n"
          ]
        }
      ]
    },
    {
      "cell_type": "markdown",
      "source": [
        "*   .isdecimal() function\n",
        "\n",
        "> if you want to check your string are decimal (0-9) or not, use isdecimal function. this function also give you boolean results (TRUE or FALSE). if your string has some alphabet or anothher type of string besides decimal (0-9), it will turn FALSE.\n",
        "\n",
        "\n",
        "\n",
        "```\n",
        ".isdecimal()\n",
        "```\n"
      ],
      "metadata": {
        "id": "JMAZPzruTWgO"
      }
    },
    {
      "cell_type": "code",
      "source": [
        "print(\"2022\".isdecimal())"
      ],
      "metadata": {
        "colab": {
          "base_uri": "https://localhost:8080/"
        },
        "id": "mECxsmtbTFYo",
        "outputId": "433934c4-cf58-4d71-ccd4-d3a05d54066f"
      },
      "execution_count": 17,
      "outputs": [
        {
          "output_type": "stream",
          "name": "stdout",
          "text": [
            "True\n"
          ]
        }
      ]
    },
    {
      "cell_type": "code",
      "source": [
        "print(\"matplotlib 2022\".isdecimal())"
      ],
      "metadata": {
        "colab": {
          "base_uri": "https://localhost:8080/"
        },
        "id": "K7D-3gvLT9o0",
        "outputId": "c2f12a95-f418-47c2-e8e7-cde75c291153"
      },
      "execution_count": 18,
      "outputs": [
        {
          "output_type": "stream",
          "name": "stdout",
          "text": [
            "False\n"
          ]
        }
      ]
    },
    {
      "cell_type": "code",
      "source": [
        "print(\"20,22\".isdecimal())"
      ],
      "metadata": {
        "colab": {
          "base_uri": "https://localhost:8080/"
        },
        "id": "Ty5m8av1UHIz",
        "outputId": "1d704ce8-f164-43f0-af54-1341c0067298"
      },
      "execution_count": 21,
      "outputs": [
        {
          "output_type": "stream",
          "name": "stdout",
          "text": [
            "False\n"
          ]
        }
      ]
    },
    {
      "cell_type": "markdown",
      "source": [
        "*   .isspace() function\n",
        "\n",
        "> if you want to check your string are whitespaces or not, use isspace function. this function also give you boolean results (TRUE or FALSE). if all characters whitespaces it will turn TRUE\n",
        "\n",
        "\n",
        "\n",
        "```\n",
        ".isspace()\n",
        "```\n"
      ],
      "metadata": {
        "id": "YiwhPzzRUcbZ"
      }
    },
    {
      "cell_type": "code",
      "source": [
        "print(\" \".isspace())"
      ],
      "metadata": {
        "colab": {
          "base_uri": "https://localhost:8080/"
        },
        "id": "hI_-nB1aW-2k",
        "outputId": "fb1d9514-2bdc-4df7-d347-81c079599c71"
      },
      "execution_count": 22,
      "outputs": [
        {
          "output_type": "stream",
          "name": "stdout",
          "text": [
            "True\n"
          ]
        }
      ]
    },
    {
      "cell_type": "code",
      "source": [
        "print(\"Matplotlib 2022\".isspace())"
      ],
      "metadata": {
        "colab": {
          "base_uri": "https://localhost:8080/"
        },
        "id": "WcMuON28XEHh",
        "outputId": "4dac1112-1377-4d17-bee9-7e47a88ab52d"
      },
      "execution_count": 23,
      "outputs": [
        {
          "output_type": "stream",
          "name": "stdout",
          "text": [
            "False\n"
          ]
        }
      ]
    },
    {
      "cell_type": "markdown",
      "source": [
        "*   .istitle() function\n",
        "\n",
        "> if you want to check your string are start with upper case or not, use istitle function. this function also give you boolean results (TRUE or FALSE).\n",
        "\n",
        "\n",
        "\n",
        "```\n",
        ".istitle()\n",
        "```\n"
      ],
      "metadata": {
        "id": "pTR7QQk5XR9U"
      }
    },
    {
      "cell_type": "code",
      "source": [
        "print(\"Mat Plot Lib 2020\".istitle())"
      ],
      "metadata": {
        "colab": {
          "base_uri": "https://localhost:8080/"
        },
        "id": "JHru18nyX6x8",
        "outputId": "20c2c6cc-38ce-46ce-e04c-3faa8f7cdffe"
      },
      "execution_count": 24,
      "outputs": [
        {
          "output_type": "stream",
          "name": "stdout",
          "text": [
            "True\n"
          ]
        }
      ]
    },
    {
      "cell_type": "code",
      "source": [
        "print(\"mat plot lib 2020\".istitle())"
      ],
      "metadata": {
        "colab": {
          "base_uri": "https://localhost:8080/"
        },
        "id": "7wHoGsWsYDWf",
        "outputId": "ac6d02d1-573b-418d-aafc-cdcb8415d1bb"
      },
      "execution_count": 25,
      "outputs": [
        {
          "output_type": "stream",
          "name": "stdout",
          "text": [
            "False\n"
          ]
        }
      ]
    }
  ]
}